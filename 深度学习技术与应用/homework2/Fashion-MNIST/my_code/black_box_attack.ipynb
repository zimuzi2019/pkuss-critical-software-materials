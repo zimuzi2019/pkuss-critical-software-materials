{
 "cells": [
  {
   "cell_type": "code",
   "execution_count": 288,
   "metadata": {},
   "outputs": [
    {
     "data": {
      "text/plain": [
       "BlackBoxCNN(\n",
       "  (layers): Sequential(\n",
       "    (0): Conv2d(1, 24, kernel_size=(5, 5), stride=(1, 1), padding=(2, 2))\n",
       "    (1): ReLU()\n",
       "    (2): Conv2d(24, 48, kernel_size=(5, 5), stride=(2, 2), padding=(2, 2))\n",
       "    (3): ReLU()\n",
       "    (4): Conv2d(48, 64, kernel_size=(5, 5), stride=(3, 3), padding=(2, 2))\n",
       "    (5): ReLU()\n",
       "    (6): Flatten(start_dim=1, end_dim=-1)\n",
       "    (7): Linear(in_features=1600, out_features=200, bias=True)\n",
       "    (8): ReLU()\n",
       "    (9): Linear(in_features=200, out_features=10, bias=True)\n",
       "  )\n",
       ")"
      ]
     },
     "execution_count": 288,
     "metadata": {},
     "output_type": "execute_result"
    }
   ],
   "source": [
    "import torch\n",
    "import torch.nn as nn\n",
    "\n",
    "# Copy from Fashion-MNIST/code/model.py\n",
    "class BlackBoxCNN(nn.Module):\n",
    "    \n",
    "    def __init__(self):\n",
    "        \n",
    "        super().__init__()\n",
    "        self.layers = nn.Sequential(\n",
    "                nn.Conv2d(1, 24, 5, 1, 2),\n",
    "                nn.ReLU(),\n",
    "                nn.Conv2d(24, 48, 5, 2, 2),\n",
    "                nn.ReLU(),\n",
    "                nn.Conv2d(48, 64, 5, 3, 2),\n",
    "                nn.ReLU(),\n",
    "                nn.Flatten(),\n",
    "                nn.Linear(5 * 5 * 64, 200),\n",
    "                nn.ReLU(),\n",
    "                nn.Linear(200, 10)\n",
    "            )\n",
    "\n",
    "    def forward(self, x):\n",
    "        \n",
    "        x = x.reshape((-1, 1, 28, 28))\n",
    "        return self.layers(x)\n",
    "    \n",
    "attacked_model = BlackBoxCNN()\n",
    "attacked_model.load_state_dict(torch.load('../model/cnn.ckpt'))\n",
    "\n",
    "attacked_model"
   ]
  },
  {
   "cell_type": "code",
   "execution_count": 289,
   "metadata": {},
   "outputs": [
    {
     "name": "stdout",
     "output_type": "stream",
     "text": [
      "Loaded images shape: torch.Size([1000, 784])\n",
      "Loaded labels shape: torch.Size([1000])\n",
      "Correct dataset size: 1000\n"
     ]
    }
   ],
   "source": [
    "import pickle\n",
    "import numpy as np\n",
    "from torch.utils.data import DataLoader, Dataset\n",
    "\n",
    "with open('../attack_data/correct_1k.pkl', 'rb') as f:\n",
    "    data = pickle.load(f)\n",
    "\n",
    "images = torch.tensor(np.array(data[0]))\n",
    "labels = torch.tensor(np.array(data[1]))\n",
    "\n",
    "print(\"Loaded images shape:\", images.shape)\n",
    "print(\"Loaded labels shape:\", labels.shape)\n",
    "\n",
    "\n",
    "class CorrectDataset(Dataset):\n",
    "    def __init__(self, images, labels):\n",
    "        super().__init__()\n",
    "        self.images = images\n",
    "        self.labels = labels\n",
    "\n",
    "    def __len__(self):\n",
    "        return len(self.images)\n",
    "        \n",
    "    def __getitem__(self, index):\n",
    "        return self.images[index], self.labels[index]\n",
    "    \n",
    "correct_dataset = CorrectDataset(images, labels)\n",
    "correct_dataset_loader = DataLoader(correct_dataset, batch_size=64, shuffle=True)\n",
    "\n",
    "print(\"Correct dataset size:\", len(correct_dataset))"
   ]
  },
  {
   "cell_type": "code",
   "execution_count": 290,
   "metadata": {},
   "outputs": [],
   "source": [
    "import torch\n",
    "import numpy as np\n",
    "import torch.nn.functional as F\n",
    "\n",
    "def mcmc_blackbox_attack(model, correct_dataset_loader, target_mapping, device, sigma=100, delta_max=2000.0, max_iter=100):\n",
    "    adversarial_samples = []\n",
    "    \n",
    "    model.to(device)\n",
    "    model.eval()\n",
    "    \n",
    "    for images, labels in correct_dataset_loader:\n",
    "        images = images.to(device)\n",
    "        labels = labels.to(device)\n",
    "        \n",
    "        target_labels = torch.tensor([target_mapping[label.item()] for label in labels], device=device)\n",
    "        \n",
    "        current_samples = images.clone()\n",
    "        \n",
    "        for i in range(len(images)):\n",
    "            for _ in range(max_iter):\n",
    "                noise = torch.randn_like(current_samples[i]) * sigma\n",
    "                candidate = current_samples[i] + noise\n",
    "                candidate = torch.clamp(candidate, 0, 255)  \n",
    "                \n",
    "                # 计算单步扰动的变化阈值\n",
    "                dist = torch.norm(candidate - current_samples[i], p=2)\n",
    "                \n",
    "                if dist > delta_max:\n",
    "                    continue  # 距离过大，拒绝样本\n",
    "            \n",
    "                # 预测候选样本的类别概率\n",
    "                with torch.no_grad():\n",
    "                    output = model(candidate.unsqueeze(0)) # 添加 batch 维度 1\n",
    "                    probabilities = F.softmax(output, dim=1).squeeze(0) # probabilities (10,)\n",
    "                    target_prob = probabilities[target_labels[i]] # target_prob (1,)\n",
    "            \n",
    "                # 接受或拒绝候选样本\n",
    "                if torch.rand(1) <= target_prob.item():\n",
    "                    current_samples[i] = candidate\n",
    "                    if probabilities.argmax(0) == target_labels[i]:\n",
    "                        adversarial_samples.append((images[i],current_samples[i], labels[i], target_labels[i]))\n",
    "                        break  # 已成功生成对抗样本\n",
    "\n",
    "        print(\"Current adversarial samples count:\", len(adversarial_samples))\n",
    "    \n",
    "    return adversarial_samples\n"
   ]
  },
  {
   "cell_type": "code",
   "execution_count": 296,
   "metadata": {},
   "outputs": [
    {
     "name": "stdout",
     "output_type": "stream",
     "text": [
      "Current adversarial samples count: 10\n",
      "Current adversarial samples count: 18\n",
      "Current adversarial samples count: 26\n",
      "Current adversarial samples count: 37\n",
      "Current adversarial samples count: 44\n",
      "Current adversarial samples count: 54\n",
      "Current adversarial samples count: 66\n",
      "Current adversarial samples count: 77\n",
      "Current adversarial samples count: 91\n",
      "Current adversarial samples count: 104\n",
      "Current adversarial samples count: 114\n",
      "Current adversarial samples count: 129\n",
      "Current adversarial samples count: 142\n",
      "Current adversarial samples count: 151\n",
      "Current adversarial samples count: 163\n",
      "Current adversarial samples count: 170\n",
      "Number of adversarial samples: 170\n",
      "Success black-box attack rate: 17.00%\n"
     ]
    }
   ],
   "source": [
    "target_mapping = {0: 1, 1: 2, 2: 3, 3: 4, 4: 5, 5: 6, 6: 7, 7: 8, 8: 9, 9: 0}\n",
    "\n",
    "device = torch.device('cuda' if torch.cuda.is_available() else 'cpu')\n",
    "\n",
    "# 调用攻击函数\n",
    "adversarial_samples = mcmc_blackbox_attack(attacked_model, correct_dataset_loader, target_mapping, device,\\\n",
    "                                           sigma = 40, delta_max= 900, max_iter=1000)\n",
    "\n",
    "\n",
    "print(\"Number of adversarial samples:\", len(adversarial_samples))\n",
    "print(f\"Success black-box attack rate: {len(adversarial_samples) / len(correct_dataset) * 100:.2f}%\")"
   ]
  },
  {
   "cell_type": "code",
   "execution_count": null,
   "metadata": {},
   "outputs": [
    {
     "name": "stdout",
     "output_type": "stream",
     "text": [
      "Original label: 7, Adversarial label: 8\n",
      "Original label: 7, Adversarial label: 8\n",
      "Original label: 2, Adversarial label: 3\n",
      "Original label: 5, Adversarial label: 6\n",
      "Original label: 2, Adversarial label: 3\n",
      "Original label: 0, Adversarial label: 1\n",
      "Original label: 7, Adversarial label: 8\n",
      "Original label: 3, Adversarial label: 4\n",
      "Original label: 5, Adversarial label: 6\n",
      "Original label: 5, Adversarial label: 6\n"
     ]
    }
   ],
   "source": [
    "import random\n",
    "\n",
    "for ori_img, adv_img, orig_label, adv_label in random.sample(adversarial_samples, 10):\n",
    "    print(f\"Original label: {orig_label}, Adversarial label: {adv_label}\")"
   ]
  },
  {
   "cell_type": "code",
   "execution_count": 306,
   "metadata": {},
   "outputs": [
    {
     "data": {
      "image/png": "[encoded data removed]",
      "text/plain": [
       "<Figure size 1500x300 with 20 Axes>"
      ]
     },
     "metadata": {},
     "output_type": "display_data"
    }
   ],
   "source": [
    "selected_samples = random.sample(adversarial_samples, 10)\n",
    "\n",
    "import matplotlib.pyplot as plt\n",
    "\n",
    "# 显示图像和分类结果\n",
    "fig, axs = plt.subplots(2, 10, figsize=(15, 3))\n",
    "\n",
    "for i, (ori_img, adv_img, ori_label, adv_label) in enumerate(selected_samples):\n",
    "    # 展示原始图像\n",
    "    axs[0, i].imshow(ori_img.cpu().reshape(28,28), cmap='gray') \n",
    "    axs[0, i].title.set_text(f\"Orig: {ori_label}\")\n",
    "    axs[0, i].axis('off')\n",
    "\n",
    "    # 展示对抗样本图像\n",
    "    axs[1, i].imshow(adv_img.cpu().reshape(28, 28), cmap='gray') \n",
    "    axs[1, i].title.set_text(f\"Adv: {adv_label}\")\n",
    "    axs[1, i].axis('off')\n",
    "\n",
    "plt.show()"
   ]
  },
  {
   "cell_type": "code",
   "execution_count": null,
   "metadata": {},
   "outputs": [],
   "source": []
  }
 ],
 "metadata": {
  "kernelspec": {
   "display_name": "base",
   "language": "python",
   "name": "python3"
  },
  "language_info": {
   "codemirror_mode": {
    "name": "ipython",
    "version": 3
   },
   "file_extension": ".py",
   "mimetype": "text/x-python",
   "name": "python",
   "nbconvert_exporter": "python",
   "pygments_lexer": "ipython3",
   "version": "3.9.13"
  }
 },
 "nbformat": 4,
 "nbformat_minor": 2
}
