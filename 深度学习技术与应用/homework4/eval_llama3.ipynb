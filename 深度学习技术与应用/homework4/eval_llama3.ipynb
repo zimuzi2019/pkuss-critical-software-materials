{
 "cells": [
  {
   "cell_type": "code",
   "execution_count": 1,
   "metadata": {},
   "outputs": [],
   "source": [
    "import json\n",
    "\n",
    "label_data = []\n",
    "predict_data = []\n",
    "with open('./generated_predictions_test.jsonl') as f:\n",
    "    for line in f:\n",
    "        data = json.loads(line)\n",
    "        label_data.append(data['label'])\n",
    "        predict_data.append(data['predict'])"
   ]
  },
  {
   "cell_type": "code",
   "execution_count": 2,
   "metadata": {},
   "outputs": [],
   "source": [
    "EM = 0.0\n",
    "\n",
    "for i in range(len(label_data)):\n",
    "    if label_data[i].strip() == predict_data[i].strip():\n",
    "        EM += 1\n",
    "\n",
    "with open(\"ground_truth.txt\", \"w\") as f:\n",
    "    for item in label_data:\n",
    "        f.write(\"%s\\n\" % item)\n",
    "\n",
    "with open(\"preds.txt\", \"w\") as f:\n",
    "    for item in predict_data:\n",
    "        f.write(\"%s\\n\" % item)"
   ]
  },
  {
   "cell_type": "code",
   "execution_count": 3,
   "metadata": {},
   "outputs": [
    {
     "name": "stdout",
     "output_type": "stream",
     "text": [
      "BLEU: 31.37, EM: 13.75\n"
     ]
    }
   ],
   "source": [
    "import numpy as np\n",
    "import sys\n",
    "import nbimporter\n",
    "from bleu import _bleu\n",
    "import os \n",
    "\n",
    "\n",
    "bleu_score = round(_bleu(\"ground_truth.txt\", \"preds.txt\"), 2)\n",
    "        \n",
    "print(f\"BLEU: {bleu_score}, EM: {round(EM/2000*100, 2)}\")\n",
    "\n",
    "try:\n",
    "    os.remove(\"preds.txt\")\n",
    "    os.remove(\"ground_truth.txt\")\n",
    "except Exception:\n",
    "    pass"
   ]
  }
 ],
 "metadata": {
  "kernelspec": {
   "display_name": "base",
   "language": "python",
   "name": "python3"
  },
  "language_info": {
   "codemirror_mode": {
    "name": "ipython",
    "version": 3
   },
   "file_extension": ".py",
   "mimetype": "text/x-python",
   "name": "python",
   "nbconvert_exporter": "python",
   "pygments_lexer": "ipython3",
   "version": "3.9.13"
  }
 },
 "nbformat": 4,
 "nbformat_minor": 2
}
