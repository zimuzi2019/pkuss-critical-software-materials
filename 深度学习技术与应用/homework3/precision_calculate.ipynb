{
 "cells": [
  {
   "cell_type": "code",
   "execution_count": 5,
   "metadata": {},
   "outputs": [
    {
     "name": "stdout",
     "output_type": "stream",
     "text": [
      "13068\n",
      "['5', '210', '6', '1', '9', '1', '183', '65', '144', '16']\n"
     ]
    }
   ],
   "source": [
    "import json\n",
    "\n",
    "with open(\"test.json\", \"r\") as f:\n",
    "    test_info = json.load(f)\n",
    "\n",
    "labels = []\n",
    "for image_name, image_info in test_info.items():\n",
    "    label = \"\"\n",
    "    label_info = list(zip(test_info[image_name][\"left\"], test_info[image_name][\"top\"], test_info[image_name][\"width\"], test_info[image_name][\"height\"], test_info[image_name][\"label\"]))\n",
    "    sorted_label_info = sorted(label_info, key=lambda x: (x[0], x[1], x[2], x[3]))  \n",
    "    t = [str(i[4]) for i in sorted_label_info]\n",
    "    for i in t:\n",
    "        label += i\n",
    "    labels.append(label)\n",
    "\n",
    "print(len(labels))\n",
    "print(labels[0:10])"
   ]
  },
  {
   "cell_type": "code",
   "execution_count": 23,
   "metadata": {},
   "outputs": [],
   "source": [
    "import os\n",
    "\n",
    "pred_labels = []\n",
    "\n",
    "pred_path = \"yolov5/runs/detect/exp3/labels\"\n",
    "\n",
    "for i in range(len(labels)):\n",
    "    pred_file_name = os.path.join(pred_path, str(i+1)+\".txt\")\n",
    "    if not os.path.exists(pred_file_name):\n",
    "        pred_labels.append(\"\")\n",
    "    else:\n",
    "        with open(pred_file_name, \"r\") as f:\n",
    "            pred = f.readlines()\n",
    "            pred = [i.strip().split(\" \") for i in pred]\n",
    "            \n",
    "            pred_numbers = [i[0] for i in pred]\n",
    "            pred_x = [i[1] for i in pred]\n",
    "            pred_y = [i[2] for i in pred]\n",
    "            pred_w = [i[3] for i in pred]\n",
    "            pred_h = [i[4] for i in pred]\n",
    "\n",
    "            pred_left = [float(i) - float(j)/2 for i, j in zip(pred_x, pred_w)]\n",
    "            pred_top = [float(i) - float(j)/2 for i, j in zip(pred_y, pred_h)]\n",
    "            pred_width = [i + float(j) for i, j in zip(pred_left, pred_w)]\n",
    "            pred_height = [i + float(j) for i, j in zip(pred_top, pred_h)]\n",
    "\n",
    "            pred_info = list(zip(pred_numbers, pred_left, pred_top, pred_width, pred_height))\n",
    "            sorted_pred_info = sorted(pred_info, key=lambda x: (x[1], x[2], x[3], x[4]))\n",
    "            sorted_pred_numbers = [i[0] for i in sorted_pred_info]\n",
    "\n",
    "            pred_label = \"\"\n",
    "            for i in sorted_pred_numbers:\n",
    "                pred_label += i\n",
    "            pred_labels.append(pred_label)"
   ]
  },
  {
   "cell_type": "code",
   "execution_count": 24,
   "metadata": {},
   "outputs": [
    {
     "name": "stdout",
     "output_type": "stream",
     "text": [
      "13068\n",
      "['5', '210', '6', '1', '9', '11', '183', '35', '144', '16']\n"
     ]
    }
   ],
   "source": [
    "print(len(pred_labels))\n",
    "print(pred_labels[0:10])"
   ]
  },
  {
   "cell_type": "code",
   "execution_count": 25,
   "metadata": {},
   "outputs": [
    {
     "name": "stdout",
     "output_type": "stream",
     "text": [
      "Acurracy: 84.56%\n"
     ]
    }
   ],
   "source": [
    "correct = 0\n",
    "\n",
    "for i in range(len(labels)):\n",
    "    if labels[i] == pred_labels[i]:\n",
    "        correct += 1\n",
    "\n",
    "print(f\"Acurracy: {correct * 100/len(labels):.2f}%\")"
   ]
  },
  {
   "cell_type": "code",
   "execution_count": 26,
   "metadata": {},
   "outputs": [
    {
     "name": "stdout",
     "output_type": "stream",
     "text": [
      "Acurracy: 91.94%\n"
     ]
    }
   ],
   "source": [
    "correct = 0\n",
    "l = 0\n",
    "\n",
    "for i in range(len(labels)):\n",
    "  for j in range(len(labels[i])):\n",
    "    if j < len(pred_labels[i]) and labels[i][j] == pred_labels[i][j]:\n",
    "      correct += 1\n",
    "    l += 1\n",
    "\n",
    "print(f\"Acurracy: {correct * 100/l:.2f}%\")"
   ]
  },
  {
   "cell_type": "code",
   "execution_count": null,
   "metadata": {},
   "outputs": [],
   "source": []
  }
 ],
 "metadata": {
  "kernelspec": {
   "display_name": "base",
   "language": "python",
   "name": "python3"
  },
  "language_info": {
   "codemirror_mode": {
    "name": "ipython",
    "version": 3
   },
   "file_extension": ".py",
   "mimetype": "text/x-python",
   "name": "python",
   "nbconvert_exporter": "python",
   "pygments_lexer": "ipython3",
   "version": "3.9.13"
  }
 },
 "nbformat": 4,
 "nbformat_minor": 2
}
