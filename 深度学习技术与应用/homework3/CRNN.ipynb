{
 "cells": [
  {
   "cell_type": "code",
   "execution_count": 46,
   "metadata": {},
   "outputs": [],
   "source": [
    "import torch\n",
    "import os, json\n",
    "import cv2\n",
    "import numpy as np\n",
    "from torch.utils.data import Dataset, DataLoader\n",
    "import torch.nn as nn\n",
    "from torch.autograd import Variable\n",
    "import torchvision.models as models\n",
    "from torchvision.models.resnet import ResNet18_Weights\n",
    "import torch.optim\n",
    "from torch import Tensor\n",
    "from torch.nn import CTCLoss\n",
    "from torchvision.transforms import Compose\n",
    "import string\n",
    "from collections import OrderedDict\n",
    "from tqdm import tqdm\n",
    "import click\n",
    "import editdistance\n",
    "import glob\n",
    "import pandas as pd"
   ]
  },
  {
   "cell_type": "code",
   "execution_count": 100,
   "metadata": {},
   "outputs": [],
   "source": [
    "def text_collate(batch):\n",
    "    img = list()\n",
    "    seq = list()\n",
    "    seq_len = list()\n",
    "    for sample in batch:\n",
    "        img.append(torch.from_numpy(sample[\"img\"].transpose((2, 0, 1))).float())\n",
    "        seq.extend(sample[\"seq\"])\n",
    "        seq_len.append(sample[\"seq_len\"])\n",
    "    img = torch.stack(img)\n",
    "    seq = torch.Tensor(seq).int()\n",
    "    seq_len = torch.Tensor(seq_len).int()\n",
    "    batch = {\"img\": img, \"seq\": seq, \"seq_len\": seq_len}\n",
    "    return batch\n",
    "\n",
    "class ToTensor(object):\n",
    "    def __call__(self, sample):\n",
    "        sample[\"img\"] = torch.from_numpy(sample[\"img\"].transpose((2, 0, 1))).float()\n",
    "        sample[\"seq\"] = torch.Tensor(sample[\"seq\"]).int()\n",
    "        return sample\n",
    "\n",
    "\n",
    "class Resize(object):\n",
    "    def __init__(self, size=(320, 32)):\n",
    "        self.size = size\n",
    "\n",
    "    def __call__(self, sample):\n",
    "        sample[\"img\"] = cv2.resize(sample[\"img\"], self.size)\n",
    "        return sample\n",
    "\n",
    "\n",
    "class Rotation(object):\n",
    "    def __init__(self, angle=5, fill_value=0, p = 0.5):\n",
    "        self.angle = angle\n",
    "        self.fill_value = fill_value\n",
    "        self.p = p\n",
    "\n",
    "    def __call__(self, sample):\n",
    "        if np.random.uniform(0.0, 1.0) < self.p or not sample[\"aug\"]:\n",
    "            return sample\n",
    "        h,w,_ = sample[\"img\"].shape\n",
    "        #print(sample[\"img\"].shape)\n",
    "        ang_rot = np.random.uniform(self.angle) - self.angle/2          # 0-5之间随机采样并减2.5\n",
    "        transform = cv2.getRotationMatrix2D((w/2, h/2), ang_rot, 1)     # 绕图像中心点旋转 ang_rot 角度\n",
    "        sample[\"img\"] = cv2.warpAffine(sample[\"img\"], transform, (w,h), borderValue = self.fill_value)  # 对 img 进行仿射变换，变换方式为 transform，原图大小，边界填充值为0\n",
    "        return sample\n",
    "\n",
    "\n",
    "class Translation(object):\n",
    "    def __init__(self, fill_value=0, p = 0.5):\n",
    "        self.fill_value = fill_value\n",
    "        self.p = p\n",
    "\n",
    "    def __call__(self, sample):\n",
    "        if np.random.uniform(0.0, 1.0) < self.p or not sample[\"aug\"]:\n",
    "            return sample\n",
    "        h,w,_ = sample[\"img\"].shape\n",
    "        trans_range = [w / 10, h / 10]\n",
    "        tr_x = trans_range[0]*np.random.uniform()-trans_range[0]/2\n",
    "        tr_y = trans_range[1]*np.random.uniform()-trans_range[1]/2\n",
    "        transform = np.float32([[1,0, tr_x], [0,1, tr_y]])\n",
    "        sample[\"img\"] = cv2.warpAffine(sample[\"img\"], transform, (w,h), borderValue = self.fill_value)\n",
    "        return sample"
   ]
  },
  {
   "cell_type": "code",
   "execution_count": 101,
   "metadata": {},
   "outputs": [],
   "source": [
    "class TextDataset(Dataset):\n",
    "    def __init__(self, data_path, data_label, transform=None):\n",
    "        super().__init__()\n",
    "        self.data_path = data_path\n",
    "        self.data_label = data_label\n",
    "        self.transform = transform\n",
    "\n",
    "    def abc_len(self):\n",
    "        return len('0123456789')\n",
    "\n",
    "    def get_abc(self):\n",
    "        return '0123456789'\n",
    "\n",
    "    def set_mode(self, mode):\n",
    "        self.mode = mode\n",
    "\n",
    "    def __len__(self):\n",
    "        return len(self.data_path)\n",
    "\n",
    "    def __getitem__(self, idx):\n",
    "        text = self.data_label[idx]     # 读取标签中的文字\n",
    "\n",
    "        img = cv2.imread(self.data_path[idx])\n",
    "        seq = self.text_to_seq(text)    # 得到 text 所串成的 list\n",
    "        sample = {\"img\": img, \"seq\": seq, \"seq_len\": len(seq), \"aug\": 1}\n",
    "        if self.transform:\n",
    "            sample = self.transform(sample)\n",
    "        return sample\n",
    "\n",
    "    def text_to_seq(self, text):\n",
    "        seq = []\n",
    "        for c in text:\n",
    "            seq.append(self.get_abc().find(str(c)) + 1)     # 循环找到 text 在0-9中的索引并形成列表\n",
    "        return seq"
   ]
  },
  {
   "cell_type": "code",
   "execution_count": 102,
   "metadata": {},
   "outputs": [],
   "source": [
    "class CRNN(nn.Module):\n",
    "    def __init__(self,\n",
    "                 abc='0123456789',\n",
    "                 backend='resnet18',\n",
    "                 rnn_hidden_size=256,\n",
    "                 rnn_num_layers=1,\n",
    "                 rnn_dropout=0,\n",
    "                 seq_proj=[0, 0]):\n",
    "        super(CRNN, self).__init__()\n",
    "\n",
    "        self.abc = abc\n",
    "        self.num_classes = len(self.abc)\n",
    "\n",
    "        self.feature_extractor = getattr(models, backend)(weights=ResNet18_Weights.IMAGENET1K_V1)  # 得到 ResNet18\n",
    "        self.cnn = nn.Sequential(\n",
    "            self.feature_extractor.conv1,\n",
    "            self.feature_extractor.bn1,\n",
    "            self.feature_extractor.relu,\n",
    "            self.feature_extractor.maxpool,\n",
    "            self.feature_extractor.layer1,\n",
    "            self.feature_extractor.layer2,\n",
    "            self.feature_extractor.layer3,\n",
    "            self.feature_extractor.layer4\n",
    "        )\n",
    "\n",
    "        self.fully_conv = seq_proj[0] == 0\n",
    "        if not self.fully_conv:\n",
    "            self.proj = nn.Conv2d(seq_proj[0], seq_proj[1], kernel_size=1)\n",
    "\n",
    "        self.rnn_hidden_size = rnn_hidden_size\n",
    "        self.rnn_num_layers = rnn_num_layers\n",
    "        self.rnn = nn.GRU(self.get_block_size(self.cnn),\n",
    "                          rnn_hidden_size, rnn_num_layers,\n",
    "                          batch_first=False,\n",
    "                          dropout=rnn_dropout, bidirectional=True)\n",
    "        self.linear = nn.Linear(rnn_hidden_size * 2, self.num_classes + 1)\n",
    "        self.softmax = nn.Softmax(dim=2)\n",
    "\n",
    "    def forward(self, x, decode=False):\n",
    "        hidden = self.init_hidden(x.size(0), next(self.parameters()).is_cuda)\n",
    "        features = self.cnn(x)  # 得到特征图\n",
    "        features = self.features_to_sequence(features)  # 得到特征序列\n",
    "        seq, hidden = self.rnn(features, hidden)\n",
    "        seq = self.linear(seq)\n",
    "        if not self.training:\n",
    "            seq = self.softmax(seq)\n",
    "            if decode:\n",
    "                seq = self.decode(seq)\n",
    "        return seq\n",
    "\n",
    "    def init_hidden(self, batch_size, gpu=False):\n",
    "        h0 = Variable(torch.zeros( self.rnn_num_layers * 2,\n",
    "                                   batch_size,\n",
    "                                   self.rnn_hidden_size))\n",
    "        if gpu:\n",
    "            h0 = h0.cuda()\n",
    "        return h0\n",
    "\n",
    "    def features_to_sequence(self, features):\n",
    "        features = features.mean(2)\n",
    "        b, c, w = features.size()\n",
    "        features = features.reshape(b, c, 1, w)\n",
    "        b, c, h, w = features.size()\n",
    "        #print(b, c, h, w)   # 20 512 1 7\n",
    "        assert h == 1, \"the height of out must be 1\"\n",
    "        if not self.fully_conv:\n",
    "            features = features.permute(0, 3, 2, 1)  # 维度转换 b,w,h,c\n",
    "            features = self.proj(features)\n",
    "            features = features.permute(1, 0, 2, 3)\n",
    "        else:\n",
    "            features = features.permute(3, 0, 2, 1)  # w 为时间序列，b 为 bitch_size，c 为通道数\n",
    "        features = features.squeeze(2)\n",
    "        return features\n",
    "\n",
    "    def get_block_size(self, layer):\n",
    "        return layer[-1][-1].bn2.weight.size()[0]\n",
    "\n",
    "    def pred_to_string(self, pred):\n",
    "        seq = []\n",
    "        for i in range(pred.shape[0]):\n",
    "            label = np.argmax(pred[i])\n",
    "            seq.append(label - 1)\n",
    "        out = []\n",
    "        for i in range(len(seq)):\n",
    "            if len(out) == 0:\n",
    "                if seq[i] != -1:\n",
    "                    out.append(seq[i])\n",
    "            else:\n",
    "                if seq[i] != -1 and seq[i] != seq[i - 1]:\n",
    "                    out.append(seq[i])\n",
    "        out = ''.join(self.abc[i] for i in out)\n",
    "        return out\n",
    "\n",
    "    def decode(self, pred):\n",
    "        pred = pred.permute(1, 0, 2).cpu().data.numpy()\n",
    "        seq = []\n",
    "        for i in range(pred.shape[0]):\n",
    "            seq.append(self.pred_to_string(pred[i]))\n",
    "        return seq"
   ]
  },
  {
   "cell_type": "code",
   "execution_count": 103,
   "metadata": {},
   "outputs": [],
   "source": [
    "def load_weights(target, source_state):\n",
    "    new_dict = OrderedDict()\n",
    "    for k, v in target.state_dict().items():\n",
    "        if k in source_state and v.size() == source_state[k].size():\n",
    "            new_dict[k] = source_state[k]\n",
    "        else:\n",
    "            new_dict[k] = v\n",
    "    target.load_state_dict(new_dict)\n",
    "\n",
    "\n",
    "def load_model(abc, device, seq_proj=[0, 0], backend='resnet18', snapshot=None):\n",
    "    net = CRNN(abc=abc, seq_proj=seq_proj, backend=backend)\n",
    "    # net = nn.DataParallel(net)\n",
    "    if snapshot is not None:\n",
    "        load_weights(net, torch.load(snapshot))     # 加载权重\n",
    "    #if cuda:\n",
    "    net = net.to(device)\n",
    "    return net"
   ]
  },
  {
   "cell_type": "code",
   "execution_count": 104,
   "metadata": {},
   "outputs": [],
   "source": [
    "class StepLR(object):\n",
    "    def __init__(self, optimizer, step_size=1000, max_iter=10000):\n",
    "        self.optimizer = optimizer\n",
    "        self.max_iter = max_iter\n",
    "        self.step_size = step_size\n",
    "        self.last_iter = -1\n",
    "        self.base_lrs = list(map(lambda group: group['lr'], optimizer.param_groups))    # 得到初始学习率\n",
    "\n",
    "    def get_lr(self):\n",
    "        return self.optimizer.param_groups[0]['lr']\n",
    "\n",
    "    def step(self, last_iter=None):\n",
    "        if last_iter is not None:\n",
    "            self.last_iter = last_iter\n",
    "        if self.last_iter + 1 == self.max_iter:\n",
    "            self.last_iter = -1\n",
    "        self.last_iter = (self.last_iter + 1) % self.max_iter\n",
    "        for ids, param_group in enumerate(self.optimizer.param_groups):\n",
    "            param_group['lr'] = self.base_lrs[ids] * 0.8 ** ( self.last_iter // self.step_size )    # 调整学习率"
   ]
  },
  {
   "cell_type": "code",
   "execution_count": 105,
   "metadata": {},
   "outputs": [],
   "source": [
    "def test(net, data, abc, device, batch_size=50):\n",
    "    data_loader = DataLoader(data, batch_size=batch_size, num_workers=4, shuffle=False, collate_fn=text_collate)\n",
    "\n",
    "    count = 0\n",
    "    tp = 0\n",
    "    avg_ed = 0\n",
    "    for sample in tqdm(data_loader):\n",
    "        imgs = Variable(sample[\"img\"])\n",
    "        #if cuda:\n",
    "        imgs = imgs.to(device)\n",
    "        out = net(imgs, decode=True)\n",
    "        gt = (sample[\"seq\"].numpy() - 1).tolist()\n",
    "        lens = sample[\"seq_len\"].numpy().tolist()\n",
    "        pos = 0\n",
    "        key = ''\n",
    "        for i in range(len(out)):\n",
    "            gts = ''.join(abc[c] for c in gt[pos:pos+lens[i]])\n",
    "            pos += lens[i]\n",
    "            if gts == out[i]:\n",
    "                tp += 1\n",
    "            else:\n",
    "                avg_ed += editdistance.eval(out[i], gts)\n",
    "            count += 1\n",
    "\n",
    "    acc = tp / count\n",
    "    avg_ed = avg_ed / count\n",
    "    return acc, avg_ed"
   ]
  },
  {
   "cell_type": "code",
   "execution_count": 92,
   "metadata": {},
   "outputs": [],
   "source": [
    "data_tv = json.load(open('train.json'))\n",
    "data_tv_label = [data_tv[x]['label'] for x in data_tv.keys()]   # 获得 json 中键为label的值，x为图片名，['label']为该图片下label值\n",
    "data_tv_path = ['data/train/' + x for x in data_tv.keys()]   # 获得图像的路径，x为图片名\n",
    "\n",
    "split_ratio = 0.9\n",
    "train_label = data_tv_label[:int(len(data_tv) * split_ratio)]\n",
    "train_path = data_tv_path[:int(len(data_tv) * split_ratio)]\n",
    "\n",
    "val_label = data_tv_label[int(len(data_tv) * split_ratio):]\n",
    "val_path = data_tv_path[int(len(data_tv) * split_ratio):]"
   ]
  },
  {
   "cell_type": "code",
   "execution_count": 93,
   "metadata": {},
   "outputs": [],
   "source": [
    "def main(\n",
    "        abc='0123456789',\n",
    "        seq_proj=\"7x30\",\n",
    "        backend=\"resnet18\",\n",
    "        snapshot=None,\n",
    "        input_size=\"200x100\",   # x为分隔符\n",
    "        base_lr=1e-3,\n",
    "        step_size=1000,\n",
    "        max_iter=15000,\n",
    "        batch_size=20,\n",
    "        output_dir='./',\n",
    "        test_epoch=1,\n",
    "        test_init=None,\n",
    "        gpu='0'):\n",
    "    os.environ[\"CUDA_VISIBLE_DEVICES\"] = gpu\n",
    "\n",
    "    device = torch.device(\"cuda:0\" if torch.cuda.is_available() else \"cpu\")\n",
    "\n",
    "    input_size = [int(x) for x in input_size.split('x')]    # [200,100]\n",
    "    \n",
    "    transform = Compose([\n",
    "        Rotation(),     # 旋转\n",
    "        Translation(),  # 平移\n",
    "        # Scale(),\n",
    "        Resize(size=(input_size[0], input_size[1]))\n",
    "    ])\n",
    "\n",
    "    data = TextDataset(train_path, train_label, transform=transform)\n",
    "    data_val = TextDataset(val_path, val_label, transform=transform)\n",
    "\n",
    "    seq_proj = [int(x) for x in seq_proj.split('x')]    # [7,30]\n",
    "    net = load_model(data.get_abc(), device, seq_proj, backend, snapshot )           # 下载 model\n",
    "    optimizer = torch.optim.Adam(net.parameters(), lr=base_lr, weight_decay=0.0001)  # 优化器\n",
    "    lr_scheduler = StepLR(optimizer, step_size=step_size, max_iter=max_iter)         # 等间隔调整学习率\n",
    "    loss_function = CTCLoss(zero_infinity=True)\n",
    "\n",
    "    acc_best = 0\n",
    "    epoch_count = 0\n",
    "\n",
    "    val_acc = []\n",
    "    train_loss = []\n",
    "\n",
    "    while epoch_count < 100:\n",
    "        if (test_epoch is not None and epoch_count != 0 and epoch_count % test_epoch == 0) or (\n",
    "                test_init and epoch_count == 0):\n",
    "            print(\"Test phase\")\n",
    "            data.set_mode(\"test\")\n",
    "            net = net.eval()\n",
    "            acc, avg_ed = test(net, data_val, data.get_abc(), device, 50)\n",
    "            val_acc.append(acc)\n",
    "\n",
    "            net = net.train()\n",
    "            data.set_mode(\"train\")\n",
    "            if acc > acc_best:\n",
    "                if output_dir is not None:\n",
    "                    torch.save(net.state_dict(),\n",
    "                               os.path.join(output_dir, \"crnn_\" + backend + \"_\" + str(data.get_abc()) + \"_best\"))\n",
    "                acc_best = acc\n",
    "            print(\"acc: {}\\tacc_best: {}; avg_ed: {}\".format(acc, acc_best, avg_ed))\n",
    "\n",
    "        data_loader = DataLoader(data, batch_size=batch_size, num_workers=1, shuffle=True, collate_fn=text_collate)     # text_collate将图片以及标签合为列表并以字典保存\n",
    "        loss_mean = []\n",
    "        iterator = tqdm(data_loader)\n",
    "        iter_count = 0\n",
    "        for sample in iterator:\n",
    "            # for multi-gpu support\n",
    "            #if sample[\"img\"].size(0) % len(gpu.split(',')) != 0:\n",
    "            #    continue\n",
    "            if sample[\"img\"].size(0) % batch_size != 0:\n",
    "                continue\n",
    "            optimizer.zero_grad()\n",
    "            imgs = Variable(sample[\"img\"])  # 将 tesnro 转为变量在 gpu 中加载\n",
    "            labels = Variable(sample[\"seq\"]).view(-1)\n",
    "            label_lens = Variable(sample[\"seq_len\"].int())\n",
    "\n",
    "            imgs = imgs.to(device)\n",
    "            preds = net(imgs).cpu()\n",
    "            pred_lens = Variable(Tensor([preds.size(0)] * batch_size).int())\n",
    "\n",
    "            # print(preds.shape, labels.shape)\n",
    "            loss = loss_function(preds, labels, pred_lens, label_lens)\n",
    "            loss.backward()\n",
    "            nn.utils.clip_grad_norm_(net.parameters(), 10.0)\n",
    "            loss_mean.append(loss.item())\n",
    "            status = \"epoch: {}; iter: {}; lr: {}; loss_mean: {}; loss: {}\".format(epoch_count, lr_scheduler.last_iter,\n",
    "                                                                                   lr_scheduler.get_lr(),\n",
    "                                                                                   np.mean(loss_mean), loss.item())\n",
    "            iterator.set_description(status)\n",
    "            optimizer.step()\n",
    "            lr_scheduler.step()\n",
    "            iter_count += 1\n",
    "        if output_dir is not None:\n",
    "            torch.save(net.state_dict(),\n",
    "                       os.path.join(output_dir, \"crnn_\" + backend + \"_\" + str(data.get_abc()) + \"_last\"))\n",
    "        epoch_count += 1\n",
    "        train_loss.append(np.mean(loss_mean))\n",
    "\n",
    "    return val_acc, train_loss"
   ]
  },
  {
   "cell_type": "code",
   "execution_count": 55,
   "metadata": {},
   "outputs": [
    {
     "name": "stderr",
     "output_type": "stream",
     "text": [
      "epoch: 0; iter: 1501; lr: 0.0008; loss_mean: 1.8297712833224655; loss: 1.3795256614685059: 100%|██████████| 1504/1504 [02:13<00:00, 11.23it/s] \n"
     ]
    },
    {
     "name": "stdout",
     "output_type": "stream",
     "text": [
      "Test phase\n"
     ]
    },
    {
     "name": "stderr",
     "output_type": "stream",
     "text": [
      "100%|██████████| 67/67 [00:04<00:00, 13.72it/s]\n"
     ]
    },
    {
     "name": "stdout",
     "output_type": "stream",
     "text": [
      "acc: 0.5366656689613888\tacc_best: 0.5366656689613888; avg_ed: 0.70487877880874\n"
     ]
    },
    {
     "name": "stderr",
     "output_type": "stream",
     "text": [
      "epoch: 1; iter: 3004; lr: 0.0005120000000000001; loss_mean: 0.9465995087949478; loss: 0.6163305044174194: 100%|██████████| 1504/1504 [02:13<00:00, 11.30it/s] \n"
     ]
    },
    {
     "name": "stdout",
     "output_type": "stream",
     "text": [
      "Test phase\n"
     ]
    },
    {
     "name": "stderr",
     "output_type": "stream",
     "text": [
      "100%|██████████| 67/67 [00:04<00:00, 15.30it/s]\n"
     ]
    },
    {
     "name": "stdout",
     "output_type": "stream",
     "text": [
      "acc: 0.6459143968871596\tacc_best: 0.6459143968871596; avg_ed: 0.5052379527087698\n"
     ]
    },
    {
     "name": "stderr",
     "output_type": "stream",
     "text": [
      "epoch: 2; iter: 4507; lr: 0.0004096000000000001; loss_mean: 0.704914715116892; loss: 0.6932080984115601: 100%|██████████| 1504/1504 [02:13<00:00, 11.23it/s]    \n"
     ]
    },
    {
     "name": "stdout",
     "output_type": "stream",
     "text": [
      "Test phase\n"
     ]
    },
    {
     "name": "stderr",
     "output_type": "stream",
     "text": [
      "100%|██████████| 67/67 [00:04<00:00, 14.94it/s]\n"
     ]
    },
    {
     "name": "stdout",
     "output_type": "stream",
     "text": [
      "acc: 0.6884166417240347\tacc_best: 0.6884166417240347; avg_ed: 0.42382520203531876\n"
     ]
    },
    {
     "name": "stderr",
     "output_type": "stream",
     "text": [
      "epoch: 3; iter: 6010; lr: 0.0002621440000000001; loss_mean: 0.5712652621891149; loss: 1.124281644821167: 100%|██████████| 1504/1504 [02:13<00:00, 11.23it/s]   \n"
     ]
    },
    {
     "name": "stdout",
     "output_type": "stream",
     "text": [
      "Test phase\n"
     ]
    },
    {
     "name": "stderr",
     "output_type": "stream",
     "text": [
      "100%|██████████| 67/67 [00:04<00:00, 15.39it/s]\n"
     ]
    },
    {
     "name": "stdout",
     "output_type": "stream",
     "text": [
      "acc: 0.7303202633941933\tacc_best: 0.7303202633941933; avg_ed: 0.36276563903023046\n"
     ]
    },
    {
     "name": "stderr",
     "output_type": "stream",
     "text": [
      "epoch: 4; iter: 7513; lr: 0.0002097152000000001; loss_mean: 0.46320448124890307; loss: 0.6330288052558899: 100%|██████████| 1504/1504 [02:10<00:00, 11.49it/s]  \n"
     ]
    },
    {
     "name": "stdout",
     "output_type": "stream",
     "text": [
      "Test phase\n"
     ]
    },
    {
     "name": "stderr",
     "output_type": "stream",
     "text": [
      "100%|██████████| 67/67 [00:04<00:00, 14.87it/s]\n"
     ]
    },
    {
     "name": "stdout",
     "output_type": "stream",
     "text": [
      "acc: 0.7482789583956899\tacc_best: 0.7482789583956899; avg_ed: 0.3412152050284346\n"
     ]
    },
    {
     "name": "stderr",
     "output_type": "stream",
     "text": [
      "epoch: 5; iter: 9016; lr: 0.00013421772800000008; loss_mean: 0.3864911181059234; loss: 0.42574644088745117: 100%|██████████| 1504/1504 [02:20<00:00, 10.70it/s]  \n"
     ]
    },
    {
     "name": "stdout",
     "output_type": "stream",
     "text": [
      "Test phase\n"
     ]
    },
    {
     "name": "stderr",
     "output_type": "stream",
     "text": [
      "100%|██████████| 67/67 [00:04<00:00, 13.64it/s]\n"
     ]
    },
    {
     "name": "stdout",
     "output_type": "stream",
     "text": [
      "acc: 0.7563603711463633\tacc_best: 0.7563603711463633; avg_ed: 0.33193654594432803\n"
     ]
    },
    {
     "name": "stderr",
     "output_type": "stream",
     "text": [
      "epoch: 6; iter: 10519; lr: 0.00010737418240000006; loss_mean: 0.319530441893745; loss: 0.34874099493026733: 100%|██████████| 1504/1504 [02:24<00:00, 10.41it/s]    \n"
     ]
    },
    {
     "name": "stdout",
     "output_type": "stream",
     "text": [
      "Test phase\n"
     ]
    },
    {
     "name": "stderr",
     "output_type": "stream",
     "text": [
      "100%|██████████| 67/67 [00:04<00:00, 14.04it/s]\n"
     ]
    },
    {
     "name": "stdout",
     "output_type": "stream",
     "text": [
      "acc: 0.7719245734809937\tacc_best: 0.7719245734809937; avg_ed: 0.3002095181083508\n"
     ]
    },
    {
     "name": "stderr",
     "output_type": "stream",
     "text": [
      "epoch: 7; iter: 12022; lr: 6.871947673600005e-05; loss_mean: 0.2645421064038902; loss: 0.20595435798168182: 100%|██████████| 1504/1504 [02:23<00:00, 10.45it/s]   \n"
     ]
    },
    {
     "name": "stdout",
     "output_type": "stream",
     "text": [
      "Test phase\n"
     ]
    },
    {
     "name": "stderr",
     "output_type": "stream",
     "text": [
      "100%|██████████| 67/67 [00:05<00:00, 12.96it/s]\n"
     ]
    },
    {
     "name": "stdout",
     "output_type": "stream",
     "text": [
      "acc: 0.7838970368153247\tacc_best: 0.7838970368153247; avg_ed: 0.28195151152349596\n"
     ]
    },
    {
     "name": "stderr",
     "output_type": "stream",
     "text": [
      "epoch: 8; iter: 13525; lr: 5.497558138880004e-05; loss_mean: 0.22608350299104196; loss: 0.24564361572265625: 100%|██████████| 1504/1504 [02:15<00:00, 11.13it/s]   \n"
     ]
    },
    {
     "name": "stdout",
     "output_type": "stream",
     "text": [
      "Test phase\n"
     ]
    },
    {
     "name": "stderr",
     "output_type": "stream",
     "text": [
      "100%|██████████| 67/67 [00:04<00:00, 14.31it/s]\n"
     ]
    },
    {
     "name": "stdout",
     "output_type": "stream",
     "text": [
      "acc: 0.7865908410655492\tacc_best: 0.7865908410655492; avg_ed: 0.2840466926070039\n"
     ]
    },
    {
     "name": "stderr",
     "output_type": "stream",
     "text": [
      "epoch: 9; iter: 28; lr: 0.001; loss_mean: 0.21908683837241946; loss: 4.9878129959106445: 100%|██████████| 1504/1504 [02:33<00:00,  9.78it/s]                       \n"
     ]
    },
    {
     "name": "stdout",
     "output_type": "stream",
     "text": [
      "Test phase\n"
     ]
    },
    {
     "name": "stderr",
     "output_type": "stream",
     "text": [
      "100%|██████████| 67/67 [00:04<00:00, 14.80it/s]\n"
     ]
    },
    {
     "name": "stdout",
     "output_type": "stream",
     "text": [
      "acc: 0.6890152648907513\tacc_best: 0.7865908410655492; avg_ed: 0.4163424124513619\n"
     ]
    },
    {
     "name": "stderr",
     "output_type": "stream",
     "text": [
      "epoch: 10; iter: 1531; lr: 0.0008; loss_mean: 0.6512460417297613; loss: 0.49145108461380005: 100%|██████████| 1504/1504 [02:15<00:00, 11.11it/s]   \n"
     ]
    },
    {
     "name": "stdout",
     "output_type": "stream",
     "text": [
      "Test phase\n"
     ]
    },
    {
     "name": "stderr",
     "output_type": "stream",
     "text": [
      "100%|██████████| 67/67 [00:04<00:00, 15.51it/s]\n"
     ]
    },
    {
     "name": "stdout",
     "output_type": "stream",
     "text": [
      "acc: 0.6869200838072433\tacc_best: 0.7865908410655492; avg_ed: 0.4405866507033822\n"
     ]
    },
    {
     "name": "stderr",
     "output_type": "stream",
     "text": [
      "epoch: 11; iter: 3034; lr: 0.0005120000000000001; loss_mean: 0.5247821833254275; loss: 0.6843569874763489: 100%|██████████| 1504/1504 [02:13<00:00, 11.25it/s]   \n"
     ]
    },
    {
     "name": "stdout",
     "output_type": "stream",
     "text": [
      "Test phase\n"
     ]
    },
    {
     "name": "stderr",
     "output_type": "stream",
     "text": [
      "100%|██████████| 67/67 [00:04<00:00, 15.50it/s]\n"
     ]
    },
    {
     "name": "stdout",
     "output_type": "stream",
     "text": [
      "acc: 0.7249326548937444\tacc_best: 0.7865908410655492; avg_ed: 0.37204429811433704\n"
     ]
    },
    {
     "name": "stderr",
     "output_type": "stream",
     "text": [
      "epoch: 12; iter: 4537; lr: 0.0004096000000000001; loss_mean: 0.4236626298593125; loss: 0.5854705572128296: 100%|██████████| 1504/1504 [02:16<00:00, 11.05it/s]   \n"
     ]
    },
    {
     "name": "stdout",
     "output_type": "stream",
     "text": [
      "Test phase\n"
     ]
    },
    {
     "name": "stderr",
     "output_type": "stream",
     "text": [
      "100%|██████████| 67/67 [00:04<00:00, 15.29it/s]\n"
     ]
    },
    {
     "name": "stdout",
     "output_type": "stream",
     "text": [
      "acc: 0.749476204729123\tacc_best: 0.7865908410655492; avg_ed: 0.328644118527387\n"
     ]
    },
    {
     "name": "stderr",
     "output_type": "stream",
     "text": [
      "epoch: 13; iter: 6040; lr: 0.0002621440000000001; loss_mean: 0.3441564115945526; loss: 0.265826940536499: 100%|██████████| 1504/1504 [02:39<00:00,  9.43it/s]     \n"
     ]
    },
    {
     "name": "stdout",
     "output_type": "stream",
     "text": [
      "Test phase\n"
     ]
    },
    {
     "name": "stderr",
     "output_type": "stream",
     "text": [
      "100%|██████████| 67/67 [00:06<00:00, 10.27it/s]\n"
     ]
    },
    {
     "name": "stdout",
     "output_type": "stream",
     "text": [
      "acc: 0.7521700089793475\tacc_best: 0.7865908410655492; avg_ed: 0.33163723436096976\n"
     ]
    },
    {
     "name": "stderr",
     "output_type": "stream",
     "text": [
      "epoch: 14; iter: 7543; lr: 0.0002097152000000001; loss_mean: 0.27538720304589454; loss: 0.259318083524704: 100%|██████████| 1504/1504 [03:00<00:00,  8.34it/s]    \n"
     ]
    },
    {
     "name": "stdout",
     "output_type": "stream",
     "text": [
      "Test phase\n"
     ]
    },
    {
     "name": "stderr",
     "output_type": "stream",
     "text": [
      "100%|██████████| 67/67 [00:05<00:00, 11.31it/s]\n"
     ]
    },
    {
     "name": "stdout",
     "output_type": "stream",
     "text": [
      "acc: 0.7865908410655492\tacc_best: 0.7865908410655492; avg_ed: 0.27596527985633046\n"
     ]
    },
    {
     "name": "stderr",
     "output_type": "stream",
     "text": [
      "epoch: 15; iter: 9046; lr: 0.00013421772800000008; loss_mean: 0.2226841982672253; loss: 0.1267290711402893: 100%|██████████| 1504/1504 [03:14<00:00,  7.75it/s]    \n"
     ]
    },
    {
     "name": "stdout",
     "output_type": "stream",
     "text": [
      "Test phase\n"
     ]
    },
    {
     "name": "stderr",
     "output_type": "stream",
     "text": [
      "100%|██████████| 67/67 [00:05<00:00, 12.99it/s]\n"
     ]
    },
    {
     "name": "stdout",
     "output_type": "stream",
     "text": [
      "acc: 0.7934750074827895\tacc_best: 0.7934750074827895; avg_ed: 0.2654893744387908\n"
     ]
    },
    {
     "name": "stderr",
     "output_type": "stream",
     "text": [
      "epoch: 16; iter: 10549; lr: 0.00010737418240000006; loss_mean: 0.1807836481867663; loss: 0.12280131876468658: 100%|██████████| 1504/1504 [02:22<00:00, 10.57it/s]   \n"
     ]
    },
    {
     "name": "stdout",
     "output_type": "stream",
     "text": [
      "Test phase\n"
     ]
    },
    {
     "name": "stderr",
     "output_type": "stream",
     "text": [
      "100%|██████████| 67/67 [00:04<00:00, 14.91it/s]\n"
     ]
    },
    {
     "name": "stdout",
     "output_type": "stream",
     "text": [
      "acc: 0.792876384316073\tacc_best: 0.7934750074827895; avg_ed: 0.2687818018557318\n"
     ]
    },
    {
     "name": "stderr",
     "output_type": "stream",
     "text": [
      "epoch: 17; iter: 12052; lr: 6.871947673600005e-05; loss_mean: 0.1509342402473361; loss: 0.19757872819900513: 100%|██████████| 1504/1504 [02:12<00:00, 11.33it/s]    \n"
     ]
    },
    {
     "name": "stdout",
     "output_type": "stream",
     "text": [
      "Test phase\n"
     ]
    },
    {
     "name": "stderr",
     "output_type": "stream",
     "text": [
      "100%|██████████| 67/67 [00:04<00:00, 15.25it/s]\n"
     ]
    },
    {
     "name": "stdout",
     "output_type": "stream",
     "text": [
      "acc: 0.8015564202334631\tacc_best: 0.8015564202334631; avg_ed: 0.2595031427716253\n"
     ]
    },
    {
     "name": "stderr",
     "output_type": "stream",
     "text": [
      "epoch: 18; iter: 13555; lr: 5.497558138880004e-05; loss_mean: 0.12770779883266212; loss: 0.06761367619037628: 100%|██████████| 1504/1504 [02:12<00:00, 11.32it/s]   \n"
     ]
    },
    {
     "name": "stdout",
     "output_type": "stream",
     "text": [
      "Test phase\n"
     ]
    },
    {
     "name": "stderr",
     "output_type": "stream",
     "text": [
      "100%|██████████| 67/67 [00:04<00:00, 14.59it/s]\n"
     ]
    },
    {
     "name": "stdout",
     "output_type": "stream",
     "text": [
      "acc: 0.8045495360670458\tacc_best: 0.8045495360670458; avg_ed: 0.25591140377132593\n"
     ]
    },
    {
     "name": "stderr",
     "output_type": "stream",
     "text": [
      "epoch: 19; iter: 58; lr: 0.001; loss_mean: 0.11033144060538042; loss: -1.2170467376708984: 100%|██████████| 1504/1504 [02:13<00:00, 11.24it/s]                      \n"
     ]
    },
    {
     "name": "stdout",
     "output_type": "stream",
     "text": [
      "Test phase\n"
     ]
    },
    {
     "name": "stderr",
     "output_type": "stream",
     "text": [
      "100%|██████████| 67/67 [00:04<00:00, 14.57it/s]\n"
     ]
    },
    {
     "name": "stdout",
     "output_type": "stream",
     "text": [
      "acc: 0.7620472912301706\tacc_best: 0.8045495360670458; avg_ed: 0.31068542352589046\n"
     ]
    },
    {
     "name": "stderr",
     "output_type": "stream",
     "text": [
      "epoch: 20; iter: 1561; lr: 0.0008; loss_mean: 0.5575696067162371; loss: 1.0278279781341553: 100%|██████████| 1504/1504 [02:15<00:00, 11.10it/s]   \n"
     ]
    },
    {
     "name": "stdout",
     "output_type": "stream",
     "text": [
      "Test phase\n"
     ]
    },
    {
     "name": "stderr",
     "output_type": "stream",
     "text": [
      "100%|██████████| 67/67 [00:04<00:00, 15.02it/s]\n"
     ]
    },
    {
     "name": "stdout",
     "output_type": "stream",
     "text": [
      "acc: 0.7225381622268782\tacc_best: 0.8045495360670458; avg_ed: 0.3645615085303801\n"
     ]
    },
    {
     "name": "stderr",
     "output_type": "stream",
     "text": [
      "epoch: 21; iter: 3064; lr: 0.0005120000000000001; loss_mean: 0.4254218228443272; loss: 0.3914565145969391: 100%|██████████| 1504/1504 [02:13<00:00, 11.29it/s]    \n"
     ]
    },
    {
     "name": "stdout",
     "output_type": "stream",
     "text": [
      "Test phase\n"
     ]
    },
    {
     "name": "stderr",
     "output_type": "stream",
     "text": [
      "100%|██████████| 67/67 [00:04<00:00, 15.23it/s]\n"
     ]
    },
    {
     "name": "stdout",
     "output_type": "stream",
     "text": [
      "acc: 0.7503741394791978\tacc_best: 0.8045495360670458; avg_ed: 0.3277461837773122\n"
     ]
    },
    {
     "name": "stderr",
     "output_type": "stream",
     "text": [
      "epoch: 22; iter: 4567; lr: 0.0004096000000000001; loss_mean: 0.3308856407784817; loss: 0.24383068084716797: 100%|██████████| 1504/1504 [02:12<00:00, 11.33it/s]   \n"
     ]
    },
    {
     "name": "stdout",
     "output_type": "stream",
     "text": [
      "Test phase\n"
     ]
    },
    {
     "name": "stderr",
     "output_type": "stream",
     "text": [
      "100%|██████████| 67/67 [00:04<00:00, 14.72it/s]\n"
     ]
    },
    {
     "name": "stdout",
     "output_type": "stream",
     "text": [
      "acc: 0.7701287039808441\tacc_best: 0.8045495360670458; avg_ed: 0.30170607602514216\n"
     ]
    },
    {
     "name": "stderr",
     "output_type": "stream",
     "text": [
      "epoch: 23; iter: 6070; lr: 0.0002621440000000001; loss_mean: 0.2656812265471991; loss: 0.036480821669101715: 100%|██████████| 1504/1504 [02:13<00:00, 11.27it/s]    \n"
     ]
    },
    {
     "name": "stdout",
     "output_type": "stream",
     "text": [
      "Test phase\n"
     ]
    },
    {
     "name": "stderr",
     "output_type": "stream",
     "text": [
      "100%|██████████| 67/67 [00:04<00:00, 14.81it/s]\n"
     ]
    },
    {
     "name": "stdout",
     "output_type": "stream",
     "text": [
      "acc: 0.7889853337324154\tacc_best: 0.8045495360670458; avg_ed: 0.2714756061059563\n"
     ]
    },
    {
     "name": "stderr",
     "output_type": "stream",
     "text": [
      "epoch: 24; iter: 7573; lr: 0.0002097152000000001; loss_mean: 0.20832562442084404; loss: 0.3024377226829529: 100%|██████████| 1504/1504 [02:13<00:00, 11.25it/s]     \n"
     ]
    },
    {
     "name": "stdout",
     "output_type": "stream",
     "text": [
      "Test phase\n"
     ]
    },
    {
     "name": "stderr",
     "output_type": "stream",
     "text": [
      "100%|██████████| 67/67 [00:04<00:00, 15.45it/s]\n"
     ]
    },
    {
     "name": "stdout",
     "output_type": "stream",
     "text": [
      "acc: 0.7877880873989823\tacc_best: 0.8045495360670458; avg_ed: 0.27716252618976356\n"
     ]
    },
    {
     "name": "stderr",
     "output_type": "stream",
     "text": [
      "epoch: 25; iter: 9076; lr: 0.00013421772800000008; loss_mean: 0.16762394147519272; loss: 0.15535496175289154: 100%|██████████| 1504/1504 [02:13<00:00, 11.24it/s]   \n"
     ]
    },
    {
     "name": "stdout",
     "output_type": "stream",
     "text": [
      "Test phase\n"
     ]
    },
    {
     "name": "stderr",
     "output_type": "stream",
     "text": [
      "100%|██████████| 67/67 [00:04<00:00, 15.47it/s]\n"
     ]
    },
    {
     "name": "stdout",
     "output_type": "stream",
     "text": [
      "acc: 0.798263992816522\tacc_best: 0.8045495360670458; avg_ed: 0.2607003891050584\n"
     ]
    },
    {
     "name": "stderr",
     "output_type": "stream",
     "text": [
      "epoch: 26; iter: 10579; lr: 0.00010737418240000006; loss_mean: 0.1368277898603658; loss: 0.18458494544029236: 100%|██████████| 1504/1504 [02:13<00:00, 11.28it/s]    \n"
     ]
    },
    {
     "name": "stdout",
     "output_type": "stream",
     "text": [
      "Test phase\n"
     ]
    },
    {
     "name": "stderr",
     "output_type": "stream",
     "text": [
      "100%|██████████| 67/67 [00:04<00:00, 14.64it/s]\n"
     ]
    },
    {
     "name": "stdout",
     "output_type": "stream",
     "text": [
      "acc: 0.7967674348997306\tacc_best: 0.8045495360670458; avg_ed: 0.25860520802155046\n"
     ]
    },
    {
     "name": "stderr",
     "output_type": "stream",
     "text": [
      "epoch: 27; iter: 12082; lr: 6.871947673600005e-05; loss_mean: 0.11077084143426659; loss: 0.12437357753515244: 100%|██████████| 1504/1504 [02:12<00:00, 11.31it/s]   \n"
     ]
    },
    {
     "name": "stdout",
     "output_type": "stream",
     "text": [
      "Test phase\n"
     ]
    },
    {
     "name": "stderr",
     "output_type": "stream",
     "text": [
      "100%|██████████| 67/67 [00:04<00:00, 15.42it/s]\n"
     ]
    },
    {
     "name": "stdout",
     "output_type": "stream",
     "text": [
      "acc: 0.8135288835677941\tacc_best: 0.8135288835677941; avg_ed: 0.24004788985333733\n"
     ]
    },
    {
     "name": "stderr",
     "output_type": "stream",
     "text": [
      "epoch: 28; iter: 13585; lr: 5.497558138880004e-05; loss_mean: 0.09737619309868406; loss: -0.042076416313648224: 100%|██████████| 1504/1504 [02:13<00:00, 11.29it/s] \n"
     ]
    },
    {
     "name": "stdout",
     "output_type": "stream",
     "text": [
      "Test phase\n"
     ]
    },
    {
     "name": "stderr",
     "output_type": "stream",
     "text": [
      "100%|██████████| 67/67 [00:04<00:00, 15.22it/s]\n"
     ]
    },
    {
     "name": "stdout",
     "output_type": "stream",
     "text": [
      "acc: 0.8081412750673451\tacc_best: 0.8135288835677941; avg_ed: 0.2427416941035618\n"
     ]
    },
    {
     "name": "stderr",
     "output_type": "stream",
     "text": [
      "epoch: 29; iter: 88; lr: 0.001; loss_mean: 0.10816844387631298; loss: -1.2236576080322266: 100%|██████████| 1504/1504 [02:13<00:00, 11.28it/s]                       \n"
     ]
    },
    {
     "name": "stdout",
     "output_type": "stream",
     "text": [
      "Test phase\n"
     ]
    },
    {
     "name": "stderr",
     "output_type": "stream",
     "text": [
      "100%|██████████| 67/67 [00:04<00:00, 15.14it/s]\n"
     ]
    },
    {
     "name": "stdout",
     "output_type": "stream",
     "text": [
      "acc: 0.7252319664771026\tacc_best: 0.8135288835677941; avg_ed: 0.36067045794672253\n"
     ]
    },
    {
     "name": "stderr",
     "output_type": "stream",
     "text": [
      "epoch: 30; iter: 1591; lr: 0.0008; loss_mean: 0.5115175259808302; loss: 0.6174147129058838: 100%|██████████| 1504/1504 [02:14<00:00, 11.18it/s]   \n"
     ]
    },
    {
     "name": "stdout",
     "output_type": "stream",
     "text": [
      "Test phase\n"
     ]
    },
    {
     "name": "stderr",
     "output_type": "stream",
     "text": [
      "100%|██████████| 67/67 [00:04<00:00, 14.85it/s]\n"
     ]
    },
    {
     "name": "stdout",
     "output_type": "stream",
     "text": [
      "acc: 0.6923076923076923\tacc_best: 0.8135288835677941; avg_ed: 0.41005686920083806\n"
     ]
    },
    {
     "name": "stderr",
     "output_type": "stream",
     "text": [
      "epoch: 31; iter: 3094; lr: 0.0005120000000000001; loss_mean: 0.3735892157243374; loss: 0.4548301696777344: 100%|██████████| 1504/1504 [02:13<00:00, 11.26it/s]    \n"
     ]
    },
    {
     "name": "stdout",
     "output_type": "stream",
     "text": [
      "Test phase\n"
     ]
    },
    {
     "name": "stderr",
     "output_type": "stream",
     "text": [
      "100%|██████████| 67/67 [00:04<00:00, 15.09it/s]\n"
     ]
    },
    {
     "name": "stdout",
     "output_type": "stream",
     "text": [
      "acc: 0.7602514217300209\tacc_best: 0.8135288835677941; avg_ed: 0.3238551331936546\n"
     ]
    },
    {
     "name": "stderr",
     "output_type": "stream",
     "text": [
      "epoch: 32; iter: 4597; lr: 0.0004096000000000001; loss_mean: 0.28580248486839493; loss: 0.11182292550802231: 100%|██████████| 1504/1504 [02:13<00:00, 11.28it/s]  \n"
     ]
    },
    {
     "name": "stdout",
     "output_type": "stream",
     "text": [
      "Test phase\n"
     ]
    },
    {
     "name": "stderr",
     "output_type": "stream",
     "text": [
      "100%|██████████| 67/67 [00:04<00:00, 15.13it/s]\n"
     ]
    },
    {
     "name": "stdout",
     "output_type": "stream",
     "text": [
      "acc: 0.7859922178988327\tacc_best: 0.8135288835677941; avg_ed: 0.2777611493564801\n"
     ]
    },
    {
     "name": "stderr",
     "output_type": "stream",
     "text": [
      "epoch: 33; iter: 6100; lr: 0.0002621440000000001; loss_mean: 0.2228504177212346; loss: 0.001878455514088273: 100%|██████████| 1504/1504 [02:16<00:00, 11.04it/s]   \n"
     ]
    },
    {
     "name": "stdout",
     "output_type": "stream",
     "text": [
      "Test phase\n"
     ]
    },
    {
     "name": "stderr",
     "output_type": "stream",
     "text": [
      "100%|██████████| 67/67 [00:04<00:00, 14.74it/s]\n"
     ]
    },
    {
     "name": "stdout",
     "output_type": "stream",
     "text": [
      "acc: 0.7955701885662975\tacc_best: 0.8135288835677941; avg_ed: 0.2642921281053577\n"
     ]
    },
    {
     "name": "stderr",
     "output_type": "stream",
     "text": [
      "epoch: 34; iter: 7603; lr: 0.0002097152000000001; loss_mean: 0.17276569918343793; loss: 0.1735660284757614: 100%|██████████| 1504/1504 [02:13<00:00, 11.23it/s]    \n"
     ]
    },
    {
     "name": "stdout",
     "output_type": "stream",
     "text": [
      "Test phase\n"
     ]
    },
    {
     "name": "stderr",
     "output_type": "stream",
     "text": [
      "100%|██████████| 67/67 [00:04<00:00, 15.05it/s]\n"
     ]
    },
    {
     "name": "stdout",
     "output_type": "stream",
     "text": [
      "acc: 0.8039509129003293\tacc_best: 0.8135288835677941; avg_ed: 0.2565100269380425\n"
     ]
    },
    {
     "name": "stderr",
     "output_type": "stream",
     "text": [
      "epoch: 35; iter: 9106; lr: 0.00013421772800000008; loss_mean: 0.14161506117746317; loss: 0.5177218914031982: 100%|██████████| 1504/1504 [02:14<00:00, 11.21it/s]    \n"
     ]
    },
    {
     "name": "stdout",
     "output_type": "stream",
     "text": [
      "Test phase\n"
     ]
    },
    {
     "name": "stderr",
     "output_type": "stream",
     "text": [
      "100%|██████████| 67/67 [00:04<00:00, 14.33it/s]\n"
     ]
    },
    {
     "name": "stdout",
     "output_type": "stream",
     "text": [
      "acc: 0.8006584854833882\tacc_best: 0.8135288835677941; avg_ed: 0.2577072732714756\n"
     ]
    },
    {
     "name": "stderr",
     "output_type": "stream",
     "text": [
      "epoch: 36; iter: 10609; lr: 0.00010737418240000006; loss_mean: 0.1113221855556914; loss: 0.0717456191778183: 100%|██████████| 1504/1504 [02:14<00:00, 11.19it/s]     \n"
     ]
    },
    {
     "name": "stdout",
     "output_type": "stream",
     "text": [
      "Test phase\n"
     ]
    },
    {
     "name": "stderr",
     "output_type": "stream",
     "text": [
      "100%|██████████| 67/67 [00:04<00:00, 14.70it/s]\n"
     ]
    },
    {
     "name": "stdout",
     "output_type": "stream",
     "text": [
      "acc: 0.8129302604010775\tacc_best: 0.8135288835677941; avg_ed: 0.24064651302005388\n"
     ]
    },
    {
     "name": "stderr",
     "output_type": "stream",
     "text": [
      "epoch: 37; iter: 12112; lr: 6.871947673600005e-05; loss_mean: 0.0960756008809001; loss: 0.07144105434417725: 100%|██████████| 1504/1504 [02:14<00:00, 11.19it/s]    \n"
     ]
    },
    {
     "name": "stdout",
     "output_type": "stream",
     "text": [
      "Test phase\n"
     ]
    },
    {
     "name": "stderr",
     "output_type": "stream",
     "text": [
      "100%|██████████| 67/67 [00:04<00:00, 14.61it/s]\n"
     ]
    },
    {
     "name": "stdout",
     "output_type": "stream",
     "text": [
      "acc: 0.7955701885662975\tacc_best: 0.8135288835677941; avg_ed: 0.2580065848548339\n"
     ]
    },
    {
     "name": "stderr",
     "output_type": "stream",
     "text": [
      "epoch: 38; iter: 13615; lr: 5.497558138880004e-05; loss_mean: 0.08324235898705876; loss: 0.349078893661499: 100%|██████████| 1504/1504 [02:12<00:00, 11.31it/s]     \n"
     ]
    },
    {
     "name": "stdout",
     "output_type": "stream",
     "text": [
      "Test phase\n"
     ]
    },
    {
     "name": "stderr",
     "output_type": "stream",
     "text": [
      "100%|██████████| 67/67 [00:04<00:00, 14.79it/s]\n"
     ]
    },
    {
     "name": "stdout",
     "output_type": "stream",
     "text": [
      "acc: 0.8057467824004789\tacc_best: 0.8135288835677941; avg_ed: 0.24723136785393596\n"
     ]
    },
    {
     "name": "stderr",
     "output_type": "stream",
     "text": [
      "epoch: 39; iter: 118; lr: 0.001; loss_mean: 0.1075748868898952; loss: 0.7417362928390503: 100%|██████████| 1504/1504 [02:13<00:00, 11.25it/s]                       \n"
     ]
    },
    {
     "name": "stdout",
     "output_type": "stream",
     "text": [
      "Test phase\n"
     ]
    },
    {
     "name": "stderr",
     "output_type": "stream",
     "text": [
      "100%|██████████| 67/67 [00:04<00:00, 14.75it/s]\n"
     ]
    },
    {
     "name": "stdout",
     "output_type": "stream",
     "text": [
      "acc: 0.665968272972164\tacc_best: 0.8135288835677941; avg_ed: 0.4624363962885364\n"
     ]
    },
    {
     "name": "stderr",
     "output_type": "stream",
     "text": [
      "epoch: 40; iter: 1621; lr: 0.0008; loss_mean: 0.47205762296273107; loss: 0.4692329466342926: 100%|██████████| 1504/1504 [02:14<00:00, 11.21it/s]   \n"
     ]
    },
    {
     "name": "stdout",
     "output_type": "stream",
     "text": [
      "Test phase\n"
     ]
    },
    {
     "name": "stderr",
     "output_type": "stream",
     "text": [
      "100%|██████████| 67/67 [00:04<00:00, 14.19it/s]\n"
     ]
    },
    {
     "name": "stdout",
     "output_type": "stream",
     "text": [
      "acc: 0.7288237054774019\tacc_best: 0.8135288835677941; avg_ed: 0.3597725231966477\n"
     ]
    },
    {
     "name": "stderr",
     "output_type": "stream",
     "text": [
      "epoch: 41; iter: 3124; lr: 0.0005120000000000001; loss_mean: 0.33987360506802644; loss: 0.19776573777198792: 100%|██████████| 1504/1504 [02:14<00:00, 11.22it/s]   \n"
     ]
    },
    {
     "name": "stdout",
     "output_type": "stream",
     "text": [
      "Test phase\n"
     ]
    },
    {
     "name": "stderr",
     "output_type": "stream",
     "text": [
      "100%|██████████| 67/67 [00:04<00:00, 15.08it/s]\n"
     ]
    },
    {
     "name": "stdout",
     "output_type": "stream",
     "text": [
      "acc: 0.7838970368153247\tacc_best: 0.8135288835677941; avg_ed: 0.28225082310685423\n"
     ]
    },
    {
     "name": "stderr",
     "output_type": "stream",
     "text": [
      "epoch: 42; iter: 4627; lr: 0.0004096000000000001; loss_mean: 0.25351325347951437; loss: 0.06819503009319305: 100%|██████████| 1504/1504 [02:20<00:00, 10.72it/s]   \n"
     ]
    },
    {
     "name": "stdout",
     "output_type": "stream",
     "text": [
      "Test phase\n"
     ]
    },
    {
     "name": "stderr",
     "output_type": "stream",
     "text": [
      "100%|██████████| 67/67 [00:04<00:00, 14.37it/s]\n"
     ]
    },
    {
     "name": "stdout",
     "output_type": "stream",
     "text": [
      "acc: 0.7719245734809937\tacc_best: 0.8135288835677941; avg_ed: 0.29242741694103563\n"
     ]
    },
    {
     "name": "stderr",
     "output_type": "stream",
     "text": [
      "epoch: 43; iter: 6130; lr: 0.0002621440000000001; loss_mean: 0.20017395826547937; loss: 0.23258137702941895: 100%|██████████| 1504/1504 [02:18<00:00, 10.87it/s]    \n"
     ]
    },
    {
     "name": "stdout",
     "output_type": "stream",
     "text": [
      "Test phase\n"
     ]
    },
    {
     "name": "stderr",
     "output_type": "stream",
     "text": [
      "100%|██████████| 67/67 [00:04<00:00, 14.74it/s]\n"
     ]
    },
    {
     "name": "stdout",
     "output_type": "stream",
     "text": [
      "acc: 0.7940736306495061\tacc_best: 0.8135288835677941; avg_ed: 0.2666866207722239\n"
     ]
    },
    {
     "name": "stderr",
     "output_type": "stream",
     "text": [
      "epoch: 44; iter: 7633; lr: 0.0002097152000000001; loss_mean: 0.15370779934389223; loss: 0.06833238899707794: 100%|██████████| 1504/1504 [02:12<00:00, 11.39it/s]   \n"
     ]
    },
    {
     "name": "stdout",
     "output_type": "stream",
     "text": [
      "Test phase\n"
     ]
    },
    {
     "name": "stderr",
     "output_type": "stream",
     "text": [
      "100%|██████████| 67/67 [00:04<00:00, 14.95it/s]\n"
     ]
    },
    {
     "name": "stdout",
     "output_type": "stream",
     "text": [
      "acc: 0.8078419634839868\tacc_best: 0.8135288835677941; avg_ed: 0.24723136785393596\n"
     ]
    },
    {
     "name": "stderr",
     "output_type": "stream",
     "text": [
      "epoch: 45; iter: 9136; lr: 0.00013421772800000008; loss_mean: 0.12336018426180737; loss: 0.22567816078662872: 100%|██████████| 1504/1504 [02:13<00:00, 11.27it/s]   \n"
     ]
    },
    {
     "name": "stdout",
     "output_type": "stream",
     "text": [
      "Test phase\n"
     ]
    },
    {
     "name": "stderr",
     "output_type": "stream",
     "text": [
      "100%|██████████| 67/67 [00:04<00:00, 14.85it/s]\n"
     ]
    },
    {
     "name": "stdout",
     "output_type": "stream",
     "text": [
      "acc: 0.810236456150853\tacc_best: 0.8135288835677941; avg_ed: 0.24483687518706973\n"
     ]
    },
    {
     "name": "stderr",
     "output_type": "stream",
     "text": [
      "epoch: 46; iter: 10639; lr: 0.00010737418240000006; loss_mean: 0.100488337768779; loss: 0.013136861845850945: 100%|██████████| 1504/1504 [02:15<00:00, 11.12it/s]    \n"
     ]
    },
    {
     "name": "stdout",
     "output_type": "stream",
     "text": [
      "Test phase\n"
     ]
    },
    {
     "name": "stderr",
     "output_type": "stream",
     "text": [
      "100%|██████████| 67/67 [00:04<00:00, 15.30it/s]\n"
     ]
    },
    {
     "name": "stdout",
     "output_type": "stream",
     "text": [
      "acc: 0.8114337024842861\tacc_best: 0.8135288835677941; avg_ed: 0.2391499551032625\n"
     ]
    },
    {
     "name": "stderr",
     "output_type": "stream",
     "text": [
      "epoch: 47; iter: 12142; lr: 6.871947673600005e-05; loss_mean: 0.08595641765947483; loss: 0.05848131701350212: 100%|██████████| 1504/1504 [02:15<00:00, 11.13it/s]   \n"
     ]
    },
    {
     "name": "stdout",
     "output_type": "stream",
     "text": [
      "Test phase\n"
     ]
    },
    {
     "name": "stderr",
     "output_type": "stream",
     "text": [
      "100%|██████████| 67/67 [00:04<00:00, 15.02it/s]\n"
     ]
    },
    {
     "name": "stdout",
     "output_type": "stream",
     "text": [
      "acc: 0.8141275067345106\tacc_best: 0.8141275067345106; avg_ed: 0.24244238252020353\n"
     ]
    },
    {
     "name": "stderr",
     "output_type": "stream",
     "text": [
      "epoch: 48; iter: 13645; lr: 5.497558138880004e-05; loss_mean: 0.07248186515076155; loss: 0.06804175674915314: 100%|██████████| 1504/1504 [02:13<00:00, 11.26it/s]    \n"
     ]
    },
    {
     "name": "stdout",
     "output_type": "stream",
     "text": [
      "Test phase\n"
     ]
    },
    {
     "name": "stderr",
     "output_type": "stream",
     "text": [
      "100%|██████████| 67/67 [00:04<00:00, 14.41it/s]\n"
     ]
    },
    {
     "name": "stdout",
     "output_type": "stream",
     "text": [
      "acc: 0.8138281951511523\tacc_best: 0.8141275067345106; avg_ed: 0.23974857826997906\n"
     ]
    },
    {
     "name": "stderr",
     "output_type": "stream",
     "text": [
      "epoch: 49; iter: 148; lr: 0.001; loss_mean: 0.09971394405897158; loss: 0.9774181246757507: 100%|██████████| 1504/1504 [02:13<00:00, 11.26it/s]                      \n"
     ]
    },
    {
     "name": "stdout",
     "output_type": "stream",
     "text": [
      "Test phase\n"
     ]
    },
    {
     "name": "stderr",
     "output_type": "stream",
     "text": [
      "100%|██████████| 67/67 [00:04<00:00, 14.93it/s]\n"
     ]
    },
    {
     "name": "stdout",
     "output_type": "stream",
     "text": [
      "acc: 0.6114935648009578\tacc_best: 0.8141275067345106; avg_ed: 0.521700089793475\n"
     ]
    },
    {
     "name": "stderr",
     "output_type": "stream",
     "text": [
      "epoch: 50; iter: 1651; lr: 0.0008; loss_mean: 0.4453413077082184; loss: 0.0876411572098732: 100%|██████████| 1504/1504 [02:14<00:00, 11.22it/s]    \n"
     ]
    },
    {
     "name": "stdout",
     "output_type": "stream",
     "text": [
      "Test phase\n"
     ]
    },
    {
     "name": "stderr",
     "output_type": "stream",
     "text": [
      "100%|██████████| 67/67 [00:04<00:00, 14.92it/s]\n"
     ]
    },
    {
     "name": "stdout",
     "output_type": "stream",
     "text": [
      "acc: 0.7398982340616582\tacc_best: 0.8141275067345106; avg_ed: 0.3448069440287339\n"
     ]
    },
    {
     "name": "stderr",
     "output_type": "stream",
     "text": [
      "epoch: 51; iter: 3154; lr: 0.0005120000000000001; loss_mean: 0.3081163633394418; loss: 0.6992672681808472: 100%|██████████| 1504/1504 [02:13<00:00, 11.27it/s]    \n"
     ]
    },
    {
     "name": "stdout",
     "output_type": "stream",
     "text": [
      "Test phase\n"
     ]
    },
    {
     "name": "stderr",
     "output_type": "stream",
     "text": [
      "100%|██████████| 67/67 [00:04<00:00, 15.15it/s]\n"
     ]
    },
    {
     "name": "stdout",
     "output_type": "stream",
     "text": [
      "acc: 0.7710266387309189\tacc_best: 0.8141275067345106; avg_ed: 0.29571984435797666\n"
     ]
    },
    {
     "name": "stderr",
     "output_type": "stream",
     "text": [
      "epoch: 52; iter: 4657; lr: 0.0004096000000000001; loss_mean: 0.23174339185454484; loss: -0.0063462033867836: 100%|██████████| 1504/1504 [02:14<00:00, 11.19it/s]   \n"
     ]
    },
    {
     "name": "stdout",
     "output_type": "stream",
     "text": [
      "Test phase\n"
     ]
    },
    {
     "name": "stderr",
     "output_type": "stream",
     "text": [
      "100%|██████████| 67/67 [00:04<00:00, 14.73it/s]\n"
     ]
    },
    {
     "name": "stdout",
     "output_type": "stream",
     "text": [
      "acc: 0.7770128703980844\tacc_best: 0.8141275067345106; avg_ed: 0.2903322358575277\n"
     ]
    },
    {
     "name": "stderr",
     "output_type": "stream",
     "text": [
      "epoch: 53; iter: 6160; lr: 0.0002621440000000001; loss_mean: 0.18090976339275608; loss: 0.07733731716871262: 100%|██████████| 1504/1504 [02:15<00:00, 11.11it/s]   \n"
     ]
    },
    {
     "name": "stdout",
     "output_type": "stream",
     "text": [
      "Test phase\n"
     ]
    },
    {
     "name": "stderr",
     "output_type": "stream",
     "text": [
      "100%|██████████| 67/67 [00:04<00:00, 14.93it/s]\n"
     ]
    },
    {
     "name": "stdout",
     "output_type": "stream",
     "text": [
      "acc: 0.7994612391499551\tacc_best: 0.8141275067345106; avg_ed: 0.25980245435498356\n"
     ]
    },
    {
     "name": "stderr",
     "output_type": "stream",
     "text": [
      "epoch: 54; iter: 7663; lr: 0.0002097152000000001; loss_mean: 0.14160653289577274; loss: 0.05779040977358818: 100%|██████████| 1504/1504 [02:13<00:00, 11.25it/s]   \n"
     ]
    },
    {
     "name": "stdout",
     "output_type": "stream",
     "text": [
      "Test phase\n"
     ]
    },
    {
     "name": "stderr",
     "output_type": "stream",
     "text": [
      "100%|██████████| 67/67 [00:04<00:00, 15.08it/s]\n"
     ]
    },
    {
     "name": "stdout",
     "output_type": "stream",
     "text": [
      "acc: 0.796168811733014\tacc_best: 0.8141275067345106; avg_ed: 0.2553127806046094\n"
     ]
    },
    {
     "name": "stderr",
     "output_type": "stream",
     "text": [
      "epoch: 55; iter: 9166; lr: 0.00013421772800000008; loss_mean: 0.11305425110055047; loss: 0.11198625713586807: 100%|██████████| 1504/1504 [02:22<00:00, 10.58it/s]   \n"
     ]
    },
    {
     "name": "stdout",
     "output_type": "stream",
     "text": [
      "Test phase\n"
     ]
    },
    {
     "name": "stderr",
     "output_type": "stream",
     "text": [
      "100%|██████████| 67/67 [00:04<00:00, 14.57it/s]\n"
     ]
    },
    {
     "name": "stdout",
     "output_type": "stream",
     "text": [
      "acc: 0.8066447171505537\tacc_best: 0.8141275067345106; avg_ed: 0.24723136785393596\n"
     ]
    },
    {
     "name": "stderr",
     "output_type": "stream",
     "text": [
      "epoch: 56; iter: 10669; lr: 0.00010737418240000006; loss_mean: 0.09071019631322953; loss: 0.14522960782051086: 100%|██████████| 1504/1504 [02:28<00:00, 10.11it/s]    \n"
     ]
    },
    {
     "name": "stdout",
     "output_type": "stream",
     "text": [
      "Test phase\n"
     ]
    },
    {
     "name": "stderr",
     "output_type": "stream",
     "text": [
      "100%|██████████| 67/67 [00:05<00:00, 12.38it/s]\n"
     ]
    },
    {
     "name": "stdout",
     "output_type": "stream",
     "text": [
      "acc: 0.8117330140676444\tacc_best: 0.8141275067345106; avg_ed: 0.2403472014366956\n"
     ]
    },
    {
     "name": "stderr",
     "output_type": "stream",
     "text": [
      "epoch: 57; iter: 12172; lr: 6.871947673600005e-05; loss_mean: 0.07883747089462893; loss: 0.016846265643835068: 100%|██████████| 1504/1504 [02:28<00:00, 10.16it/s]  \n"
     ]
    },
    {
     "name": "stdout",
     "output_type": "stream",
     "text": [
      "Test phase\n"
     ]
    },
    {
     "name": "stderr",
     "output_type": "stream",
     "text": [
      "100%|██████████| 67/67 [00:04<00:00, 15.02it/s]\n"
     ]
    },
    {
     "name": "stdout",
     "output_type": "stream",
     "text": [
      "acc: 0.8171206225680934\tacc_best: 0.8171206225680934; avg_ed: 0.2376533971864711\n"
     ]
    },
    {
     "name": "stderr",
     "output_type": "stream",
     "text": [
      "epoch: 58; iter: 13675; lr: 5.497558138880004e-05; loss_mean: 0.06933087514524339; loss: 0.11815376579761505: 100%|██████████| 1504/1504 [02:15<00:00, 11.14it/s]   \n"
     ]
    },
    {
     "name": "stdout",
     "output_type": "stream",
     "text": [
      "Test phase\n"
     ]
    },
    {
     "name": "stderr",
     "output_type": "stream",
     "text": [
      "100%|██████████| 67/67 [00:04<00:00, 14.19it/s]\n"
     ]
    },
    {
     "name": "stdout",
     "output_type": "stream",
     "text": [
      "acc: 0.8159233762346603\tacc_best: 0.8171206225680934; avg_ed: 0.2352589045196049\n"
     ]
    },
    {
     "name": "stderr",
     "output_type": "stream",
     "text": [
      "epoch: 59; iter: 178; lr: 0.001; loss_mean: 0.11244103495014585; loss: 0.44425076246261597: 100%|██████████| 1504/1504 [02:18<00:00, 10.83it/s]                      \n"
     ]
    },
    {
     "name": "stdout",
     "output_type": "stream",
     "text": [
      "Test phase\n"
     ]
    },
    {
     "name": "stderr",
     "output_type": "stream",
     "text": [
      "100%|██████████| 67/67 [00:04<00:00, 14.82it/s]\n"
     ]
    },
    {
     "name": "stdout",
     "output_type": "stream",
     "text": [
      "acc: 0.6997904818916492\tacc_best: 0.8171206225680934; avg_ed: 0.40526788386710566\n"
     ]
    },
    {
     "name": "stderr",
     "output_type": "stream",
     "text": [
      "epoch: 60; iter: 1681; lr: 0.0008; loss_mean: 0.4168306272181032; loss: 0.3564648926258087: 100%|██████████| 1504/1504 [02:15<00:00, 11.09it/s]    \n"
     ]
    },
    {
     "name": "stdout",
     "output_type": "stream",
     "text": [
      "Test phase\n"
     ]
    },
    {
     "name": "stderr",
     "output_type": "stream",
     "text": [
      "100%|██████████| 67/67 [00:04<00:00, 15.16it/s]\n"
     ]
    },
    {
     "name": "stdout",
     "output_type": "stream",
     "text": [
      "acc: 0.7599521101466626\tacc_best: 0.8171206225680934; avg_ed: 0.3277461837773122\n"
     ]
    },
    {
     "name": "stderr",
     "output_type": "stream",
     "text": [
      "epoch: 61; iter: 3184; lr: 0.0005120000000000001; loss_mean: 0.290169406830057; loss: 0.28071489930152893: 100%|██████████| 1504/1504 [02:15<00:00, 11.13it/s]     \n"
     ]
    },
    {
     "name": "stdout",
     "output_type": "stream",
     "text": [
      "Test phase\n"
     ]
    },
    {
     "name": "stderr",
     "output_type": "stream",
     "text": [
      "100%|██████████| 67/67 [00:04<00:00, 14.93it/s]\n"
     ]
    },
    {
     "name": "stdout",
     "output_type": "stream",
     "text": [
      "acc: 0.7877880873989823\tacc_best: 0.8171206225680934; avg_ed: 0.27297216402274765\n"
     ]
    },
    {
     "name": "stderr",
     "output_type": "stream",
     "text": [
      "epoch: 62; iter: 4687; lr: 0.0004096000000000001; loss_mean: 0.2183324702547867; loss: 0.17109262943267822: 100%|██████████| 1504/1504 [02:15<00:00, 11.08it/s]   \n"
     ]
    },
    {
     "name": "stdout",
     "output_type": "stream",
     "text": [
      "Test phase\n"
     ]
    },
    {
     "name": "stderr",
     "output_type": "stream",
     "text": [
      "100%|██████████| 67/67 [00:04<00:00, 13.64it/s]\n"
     ]
    },
    {
     "name": "stdout",
     "output_type": "stream",
     "text": [
      "acc: 0.7976653696498055\tacc_best: 0.8171206225680934; avg_ed: 0.26339419335528286\n"
     ]
    },
    {
     "name": "stderr",
     "output_type": "stream",
     "text": [
      "epoch: 63; iter: 6190; lr: 0.0002621440000000001; loss_mean: 0.16539294291451986; loss: 0.3640604317188263: 100%|██████████| 1504/1504 [02:20<00:00, 10.71it/s]    \n"
     ]
    },
    {
     "name": "stdout",
     "output_type": "stream",
     "text": [
      "Test phase\n"
     ]
    },
    {
     "name": "stderr",
     "output_type": "stream",
     "text": [
      "100%|██████████| 67/67 [00:04<00:00, 14.30it/s]\n"
     ]
    },
    {
     "name": "stdout",
     "output_type": "stream",
     "text": [
      "acc: 0.8009577970667465\tacc_best: 0.8171206225680934; avg_ed: 0.2550134690212511\n"
     ]
    },
    {
     "name": "stderr",
     "output_type": "stream",
     "text": [
      "epoch: 64; iter: 7693; lr: 0.0002097152000000001; loss_mean: 0.12626616360884038; loss: 0.025500351563096046: 100%|██████████| 1504/1504 [02:24<00:00, 10.42it/s]  \n"
     ]
    },
    {
     "name": "stdout",
     "output_type": "stream",
     "text": [
      "Test phase\n"
     ]
    },
    {
     "name": "stderr",
     "output_type": "stream",
     "text": [
      "100%|██████████| 67/67 [00:05<00:00, 13.15it/s]\n"
     ]
    },
    {
     "name": "stdout",
     "output_type": "stream",
     "text": [
      "acc: 0.8129302604010775\tacc_best: 0.8171206225680934; avg_ed: 0.24543549835378628\n"
     ]
    },
    {
     "name": "stderr",
     "output_type": "stream",
     "text": [
      "epoch: 65; iter: 9196; lr: 0.00013421772800000008; loss_mean: 0.10431662680784648; loss: 0.07718348503112793: 100%|██████████| 1504/1504 [02:15<00:00, 11.09it/s]   \n"
     ]
    },
    {
     "name": "stdout",
     "output_type": "stream",
     "text": [
      "Test phase\n"
     ]
    },
    {
     "name": "stderr",
     "output_type": "stream",
     "text": [
      "100%|██████████| 67/67 [00:04<00:00, 15.21it/s]\n"
     ]
    },
    {
     "name": "stdout",
     "output_type": "stream",
     "text": [
      "acc: 0.8117330140676444\tacc_best: 0.8171206225680934; avg_ed: 0.24543549835378628\n"
     ]
    },
    {
     "name": "stderr",
     "output_type": "stream",
     "text": [
      "epoch: 66; iter: 10699; lr: 0.00010737418240000006; loss_mean: 0.08690927488288559; loss: 0.051720209419727325: 100%|██████████| 1504/1504 [02:16<00:00, 11.03it/s]  \n"
     ]
    },
    {
     "name": "stdout",
     "output_type": "stream",
     "text": [
      "Test phase\n"
     ]
    },
    {
     "name": "stderr",
     "output_type": "stream",
     "text": [
      "100%|██████████| 67/67 [00:04<00:00, 15.84it/s]\n"
     ]
    },
    {
     "name": "stdout",
     "output_type": "stream",
     "text": [
      "acc: 0.8093385214007782\tacc_best: 0.8171206225680934; avg_ed: 0.24244238252020353\n"
     ]
    },
    {
     "name": "stderr",
     "output_type": "stream",
     "text": [
      "epoch: 67; iter: 12202; lr: 6.871947673600005e-05; loss_mean: 0.07219271876271456; loss: 0.025684043765068054: 100%|██████████| 1504/1504 [02:07<00:00, 11.75it/s]  \n"
     ]
    },
    {
     "name": "stdout",
     "output_type": "stream",
     "text": [
      "Test phase\n"
     ]
    },
    {
     "name": "stderr",
     "output_type": "stream",
     "text": [
      "100%|██████████| 67/67 [00:04<00:00, 16.15it/s]\n"
     ]
    },
    {
     "name": "stdout",
     "output_type": "stream",
     "text": [
      "acc: 0.8219096079018258\tacc_best: 0.8219096079018258; avg_ed: 0.22807542651900628\n"
     ]
    },
    {
     "name": "stderr",
     "output_type": "stream",
     "text": [
      "epoch: 68; iter: 13705; lr: 5.497558138880004e-05; loss_mean: 0.06655931985055841; loss: 0.10534314066171646: 100%|██████████| 1504/1504 [02:07<00:00, 11.77it/s]    \n"
     ]
    },
    {
     "name": "stdout",
     "output_type": "stream",
     "text": [
      "Test phase\n"
     ]
    },
    {
     "name": "stderr",
     "output_type": "stream",
     "text": [
      "100%|██████████| 67/67 [00:04<00:00, 16.47it/s]\n"
     ]
    },
    {
     "name": "stdout",
     "output_type": "stream",
     "text": [
      "acc: 0.8120323256510027\tacc_best: 0.8219096079018258; avg_ed: 0.24214307093684526\n"
     ]
    },
    {
     "name": "stderr",
     "output_type": "stream",
     "text": [
      "epoch: 69; iter: 208; lr: 0.001; loss_mean: 0.11021506194112773; loss: 0.3545861840248108: 100%|██████████| 1504/1504 [02:06<00:00, 11.93it/s]                        \n"
     ]
    },
    {
     "name": "stdout",
     "output_type": "stream",
     "text": [
      "Test phase\n"
     ]
    },
    {
     "name": "stderr",
     "output_type": "stream",
     "text": [
      "100%|██████████| 67/67 [00:04<00:00, 16.12it/s]\n"
     ]
    },
    {
     "name": "stdout",
     "output_type": "stream",
     "text": [
      "acc: 0.6997904818916492\tacc_best: 0.8219096079018258; avg_ed: 0.40796168811733013\n"
     ]
    },
    {
     "name": "stderr",
     "output_type": "stream",
     "text": [
      "epoch: 70; iter: 1711; lr: 0.0008; loss_mean: 0.40430040813885126; loss: 0.7279609441757202: 100%|██████████| 1504/1504 [02:12<00:00, 11.31it/s]    \n"
     ]
    },
    {
     "name": "stdout",
     "output_type": "stream",
     "text": [
      "Test phase\n"
     ]
    },
    {
     "name": "stderr",
     "output_type": "stream",
     "text": [
      "100%|██████████| 67/67 [00:04<00:00, 14.35it/s]\n"
     ]
    },
    {
     "name": "stdout",
     "output_type": "stream",
     "text": [
      "acc: 0.7770128703980844\tacc_best: 0.8219096079018258; avg_ed: 0.30050882969170906\n"
     ]
    },
    {
     "name": "stderr",
     "output_type": "stream",
     "text": [
      "epoch: 71; iter: 3214; lr: 0.0005120000000000001; loss_mean: 0.27508586031713256; loss: -0.10371887683868408: 100%|██████████| 1504/1504 [02:19<00:00, 10.81it/s] \n"
     ]
    },
    {
     "name": "stdout",
     "output_type": "stream",
     "text": [
      "Test phase\n"
     ]
    },
    {
     "name": "stderr",
     "output_type": "stream",
     "text": [
      "100%|██████████| 67/67 [00:04<00:00, 14.34it/s]\n"
     ]
    },
    {
     "name": "stdout",
     "output_type": "stream",
     "text": [
      "acc: 0.7758156240646513\tacc_best: 0.8219096079018258; avg_ed: 0.29332535169111046\n"
     ]
    },
    {
     "name": "stderr",
     "output_type": "stream",
     "text": [
      "epoch: 72; iter: 4717; lr: 0.0004096000000000001; loss_mean: 0.2040343042022731; loss: 0.07440981268882751: 100%|██████████| 1504/1504 [02:21<00:00, 10.60it/s]    \n"
     ]
    },
    {
     "name": "stdout",
     "output_type": "stream",
     "text": [
      "Test phase\n"
     ]
    },
    {
     "name": "stderr",
     "output_type": "stream",
     "text": [
      "100%|██████████| 67/67 [00:05<00:00, 12.87it/s]\n"
     ]
    },
    {
     "name": "stdout",
     "output_type": "stream",
     "text": [
      "acc: 0.7850942831487578\tacc_best: 0.8219096079018258; avg_ed: 0.2840466926070039\n"
     ]
    },
    {
     "name": "stderr",
     "output_type": "stream",
     "text": [
      "epoch: 73; iter: 6220; lr: 0.0002621440000000001; loss_mean: 0.15307340453354382; loss: 0.11956016719341278: 100%|██████████| 1504/1504 [02:19<00:00, 10.76it/s]   \n"
     ]
    },
    {
     "name": "stdout",
     "output_type": "stream",
     "text": [
      "Test phase\n"
     ]
    },
    {
     "name": "stderr",
     "output_type": "stream",
     "text": [
      "100%|██████████| 67/67 [00:04<00:00, 15.07it/s]\n"
     ]
    },
    {
     "name": "stdout",
     "output_type": "stream",
     "text": [
      "acc: 0.8063454055671955\tacc_best: 0.8219096079018258; avg_ed: 0.2514217300209518\n"
     ]
    },
    {
     "name": "stderr",
     "output_type": "stream",
     "text": [
      "epoch: 74; iter: 7723; lr: 0.0002097152000000001; loss_mean: 0.12094143968702244; loss: 0.0470266118645668: 100%|██████████| 1504/1504 [02:18<00:00, 10.83it/s]    \n"
     ]
    },
    {
     "name": "stdout",
     "output_type": "stream",
     "text": [
      "Test phase\n"
     ]
    },
    {
     "name": "stderr",
     "output_type": "stream",
     "text": [
      "100%|██████████| 67/67 [00:04<00:00, 15.60it/s]\n"
     ]
    },
    {
     "name": "stdout",
     "output_type": "stream",
     "text": [
      "acc: 0.8132295719844358\tacc_best: 0.8219096079018258; avg_ed: 0.24363962885363663\n"
     ]
    },
    {
     "name": "stderr",
     "output_type": "stream",
     "text": [
      "epoch: 75; iter: 9226; lr: 0.00013421772800000008; loss_mean: 0.09612516737813318; loss: 0.019511563703417778: 100%|██████████| 1504/1504 [02:17<00:00, 10.95it/s]  \n"
     ]
    },
    {
     "name": "stdout",
     "output_type": "stream",
     "text": [
      "Test phase\n"
     ]
    },
    {
     "name": "stderr",
     "output_type": "stream",
     "text": [
      "100%|██████████| 67/67 [00:04<00:00, 15.43it/s]\n"
     ]
    },
    {
     "name": "stdout",
     "output_type": "stream",
     "text": [
      "acc: 0.810236456150853\tacc_best: 0.8219096079018258; avg_ed: 0.24543549835378628\n"
     ]
    },
    {
     "name": "stderr",
     "output_type": "stream",
     "text": [
      "epoch: 76; iter: 10729; lr: 0.00010737418240000006; loss_mean: 0.08153421517767835; loss: 0.18024763464927673: 100%|██████████| 1504/1504 [02:06<00:00, 11.87it/s]   \n"
     ]
    },
    {
     "name": "stdout",
     "output_type": "stream",
     "text": [
      "Test phase\n"
     ]
    },
    {
     "name": "stderr",
     "output_type": "stream",
     "text": [
      "100%|██████████| 67/67 [00:04<00:00, 16.47it/s]\n"
     ]
    },
    {
     "name": "stdout",
     "output_type": "stream",
     "text": [
      "acc: 0.8144268183178689\tacc_best: 0.8219096079018258; avg_ed: 0.23885064351990423\n"
     ]
    },
    {
     "name": "stderr",
     "output_type": "stream",
     "text": [
      "epoch: 77; iter: 12232; lr: 6.871947673600005e-05; loss_mean: 0.07294987937561319; loss: 0.0033436515368521214: 100%|██████████| 1504/1504 [02:11<00:00, 11.42it/s]  \n"
     ]
    },
    {
     "name": "stdout",
     "output_type": "stream",
     "text": [
      "Test phase\n"
     ]
    },
    {
     "name": "stderr",
     "output_type": "stream",
     "text": [
      "100%|██████████| 67/67 [00:04<00:00, 15.33it/s]\n"
     ]
    },
    {
     "name": "stdout",
     "output_type": "stream",
     "text": [
      "acc: 0.8087398982340617\tacc_best: 0.8219096079018258; avg_ed: 0.2415444477701287\n"
     ]
    },
    {
     "name": "stderr",
     "output_type": "stream",
     "text": [
      "epoch: 78; iter: 13735; lr: 5.497558138880004e-05; loss_mean: 0.06105927242109972; loss: 0.008584670722484589: 100%|██████████| 1504/1504 [02:07<00:00, 11.77it/s]    \n"
     ]
    },
    {
     "name": "stdout",
     "output_type": "stream",
     "text": [
      "Test phase\n"
     ]
    },
    {
     "name": "stderr",
     "output_type": "stream",
     "text": [
      "100%|██████████| 67/67 [00:04<00:00, 16.26it/s]\n"
     ]
    },
    {
     "name": "stdout",
     "output_type": "stream",
     "text": [
      "acc: 0.8171206225680934\tacc_best: 0.8219096079018258; avg_ed: 0.2340616581861718\n"
     ]
    },
    {
     "name": "stderr",
     "output_type": "stream",
     "text": [
      "epoch: 79; iter: 238; lr: 0.001; loss_mean: 0.10917856296690663; loss: 0.47448307275772095: 100%|██████████| 1504/1504 [02:06<00:00, 11.87it/s]                      \n"
     ]
    },
    {
     "name": "stdout",
     "output_type": "stream",
     "text": [
      "Test phase\n"
     ]
    },
    {
     "name": "stderr",
     "output_type": "stream",
     "text": [
      "100%|██████████| 67/67 [00:04<00:00, 16.15it/s]\n"
     ]
    },
    {
     "name": "stdout",
     "output_type": "stream",
     "text": [
      "acc: 0.7024842861418736\tacc_best: 0.8219096079018258; avg_ed: 0.394791978449566\n"
     ]
    },
    {
     "name": "stderr",
     "output_type": "stream",
     "text": [
      "epoch: 80; iter: 1741; lr: 0.0008; loss_mean: 0.3768842848768155; loss: 0.6857190728187561: 100%|██████████| 1504/1504 [02:07<00:00, 11.78it/s]     \n"
     ]
    },
    {
     "name": "stdout",
     "output_type": "stream",
     "text": [
      "Test phase\n"
     ]
    },
    {
     "name": "stderr",
     "output_type": "stream",
     "text": [
      "100%|██████████| 67/67 [00:04<00:00, 15.88it/s]\n"
     ]
    },
    {
     "name": "stdout",
     "output_type": "stream",
     "text": [
      "acc: 0.7602514217300209\tacc_best: 0.8219096079018258; avg_ed: 0.3172702783597725\n"
     ]
    },
    {
     "name": "stderr",
     "output_type": "stream",
     "text": [
      "epoch: 81; iter: 3244; lr: 0.0005120000000000001; loss_mean: 0.2639466470664495; loss: 0.09587366878986359: 100%|██████████| 1504/1504 [02:09<00:00, 11.61it/s]    \n"
     ]
    },
    {
     "name": "stdout",
     "output_type": "stream",
     "text": [
      "Test phase\n"
     ]
    },
    {
     "name": "stderr",
     "output_type": "stream",
     "text": [
      "100%|██████████| 67/67 [00:05<00:00, 12.87it/s]\n"
     ]
    },
    {
     "name": "stdout",
     "output_type": "stream",
     "text": [
      "acc: 0.7806046093983837\tacc_best: 0.8219096079018258; avg_ed: 0.2813528883567794\n"
     ]
    },
    {
     "name": "stderr",
     "output_type": "stream",
     "text": [
      "epoch: 82; iter: 4747; lr: 0.0004096000000000001; loss_mean: 0.1965056534978395; loss: 0.004230146296322346: 100%|██████████| 1504/1504 [02:32<00:00,  9.89it/s]  \n"
     ]
    },
    {
     "name": "stdout",
     "output_type": "stream",
     "text": [
      "Test phase\n"
     ]
    },
    {
     "name": "stderr",
     "output_type": "stream",
     "text": [
      "100%|██████████| 67/67 [00:05<00:00, 11.87it/s]\n"
     ]
    },
    {
     "name": "stdout",
     "output_type": "stream",
     "text": [
      "acc: 0.7889853337324154\tacc_best: 0.8219096079018258; avg_ed: 0.27207422927267283\n"
     ]
    },
    {
     "name": "stderr",
     "output_type": "stream",
     "text": [
      "epoch: 83; iter: 6250; lr: 0.0002621440000000001; loss_mean: 0.150268195749487; loss: 0.10852370411157608: 100%|██████████| 1504/1504 [02:47<00:00,  8.96it/s]     \n"
     ]
    },
    {
     "name": "stdout",
     "output_type": "stream",
     "text": [
      "Test phase\n"
     ]
    },
    {
     "name": "stderr",
     "output_type": "stream",
     "text": [
      "100%|██████████| 67/67 [00:05<00:00, 11.42it/s]\n"
     ]
    },
    {
     "name": "stdout",
     "output_type": "stream",
     "text": [
      "acc: 0.7943729422328644\tacc_best: 0.8219096079018258; avg_ed: 0.267883867105657\n"
     ]
    },
    {
     "name": "stderr",
     "output_type": "stream",
     "text": [
      "epoch: 84; iter: 7753; lr: 0.0002097152000000001; loss_mean: 0.11585866250917616; loss: 0.04689569026231766: 100%|██████████| 1504/1504 [02:24<00:00, 10.38it/s]    \n"
     ]
    },
    {
     "name": "stdout",
     "output_type": "stream",
     "text": [
      "Test phase\n"
     ]
    },
    {
     "name": "stderr",
     "output_type": "stream",
     "text": [
      "100%|██████████| 67/67 [00:04<00:00, 14.77it/s]\n"
     ]
    },
    {
     "name": "stdout",
     "output_type": "stream",
     "text": [
      "acc: 0.7991619275665969\tacc_best: 0.8219096079018258; avg_ed: 0.25591140377132593\n"
     ]
    },
    {
     "name": "stderr",
     "output_type": "stream",
     "text": [
      "epoch: 85; iter: 9256; lr: 0.00013421772800000008; loss_mean: 0.09187784875839697; loss: 0.056469060480594635: 100%|██████████| 1504/1504 [02:16<00:00, 11.04it/s]  \n"
     ]
    },
    {
     "name": "stdout",
     "output_type": "stream",
     "text": [
      "Test phase\n"
     ]
    },
    {
     "name": "stderr",
     "output_type": "stream",
     "text": [
      "100%|██████████| 67/67 [00:04<00:00, 13.95it/s]\n"
     ]
    },
    {
     "name": "stdout",
     "output_type": "stream",
     "text": [
      "acc: 0.8126309488177192\tacc_best: 0.8219096079018258; avg_ed: 0.24064651302005388\n"
     ]
    },
    {
     "name": "stderr",
     "output_type": "stream",
     "text": [
      "epoch: 86; iter: 10759; lr: 0.00010737418240000006; loss_mean: 0.07693500520972806; loss: 0.04469948261976242: 100%|██████████| 1504/1504 [02:23<00:00, 10.51it/s]   \n"
     ]
    },
    {
     "name": "stdout",
     "output_type": "stream",
     "text": [
      "Test phase\n"
     ]
    },
    {
     "name": "stderr",
     "output_type": "stream",
     "text": [
      "100%|██████████| 67/67 [00:04<00:00, 13.89it/s]\n"
     ]
    },
    {
     "name": "stdout",
     "output_type": "stream",
     "text": [
      "acc: 0.8132295719844358\tacc_best: 0.8219096079018258; avg_ed: 0.2415444477701287\n"
     ]
    },
    {
     "name": "stderr",
     "output_type": "stream",
     "text": [
      "epoch: 87; iter: 12262; lr: 6.871947673600005e-05; loss_mean: 0.06400799775633202; loss: 0.06066235899925232: 100%|██████████| 1504/1504 [02:20<00:00, 10.72it/s]    \n"
     ]
    },
    {
     "name": "stdout",
     "output_type": "stream",
     "text": [
      "Test phase\n"
     ]
    },
    {
     "name": "stderr",
     "output_type": "stream",
     "text": [
      "100%|██████████| 67/67 [00:04<00:00, 13.52it/s]\n"
     ]
    },
    {
     "name": "stdout",
     "output_type": "stream",
     "text": [
      "acc: 0.8132295719844358\tacc_best: 0.8219096079018258; avg_ed: 0.24573480993714455\n"
     ]
    },
    {
     "name": "stderr",
     "output_type": "stream",
     "text": [
      "epoch: 88; iter: 13765; lr: 5.497558138880004e-05; loss_mean: 0.05985363471667677; loss: 0.0921470895409584: 100%|██████████| 1504/1504 [02:22<00:00, 10.59it/s]     \n"
     ]
    },
    {
     "name": "stdout",
     "output_type": "stream",
     "text": [
      "Test phase\n"
     ]
    },
    {
     "name": "stderr",
     "output_type": "stream",
     "text": [
      "100%|██████████| 67/67 [00:04<00:00, 14.51it/s]\n"
     ]
    },
    {
     "name": "stdout",
     "output_type": "stream",
     "text": [
      "acc: 0.8132295719844358\tacc_best: 0.8219096079018258; avg_ed: 0.23855133193654596\n"
     ]
    },
    {
     "name": "stderr",
     "output_type": "stream",
     "text": [
      "epoch: 89; iter: 268; lr: 0.001; loss_mean: 0.11400067646750354; loss: 1.0240554809570312: 100%|██████████| 1504/1504 [02:21<00:00, 10.63it/s]                       \n"
     ]
    },
    {
     "name": "stdout",
     "output_type": "stream",
     "text": [
      "Test phase\n"
     ]
    },
    {
     "name": "stderr",
     "output_type": "stream",
     "text": [
      "100%|██████████| 67/67 [00:04<00:00, 13.59it/s]\n"
     ]
    },
    {
     "name": "stdout",
     "output_type": "stream",
     "text": [
      "acc: 0.6545944328045495\tacc_best: 0.8219096079018258; avg_ed: 0.469619874289135\n"
     ]
    },
    {
     "name": "stderr",
     "output_type": "stream",
     "text": [
      "epoch: 90; iter: 1771; lr: 0.0008; loss_mean: 0.3690892427300967; loss: 0.5539266467094421: 100%|██████████| 1504/1504 [02:24<00:00, 10.42it/s]     \n"
     ]
    },
    {
     "name": "stdout",
     "output_type": "stream",
     "text": [
      "Test phase\n"
     ]
    },
    {
     "name": "stderr",
     "output_type": "stream",
     "text": [
      "100%|██████████| 67/67 [00:04<00:00, 14.70it/s]\n"
     ]
    },
    {
     "name": "stdout",
     "output_type": "stream",
     "text": [
      "acc: 0.7572583058964382\tacc_best: 0.8219096079018258; avg_ed: 0.3136785393594732\n"
     ]
    },
    {
     "name": "stderr",
     "output_type": "stream",
     "text": [
      "epoch: 91; iter: 3274; lr: 0.0005120000000000001; loss_mean: 0.25189823185646965; loss: 0.23053745925426483: 100%|██████████| 1504/1504 [02:15<00:00, 11.10it/s]  \n"
     ]
    },
    {
     "name": "stdout",
     "output_type": "stream",
     "text": [
      "Test phase\n"
     ]
    },
    {
     "name": "stderr",
     "output_type": "stream",
     "text": [
      "100%|██████████| 67/67 [00:04<00:00, 14.70it/s]\n"
     ]
    },
    {
     "name": "stdout",
     "output_type": "stream",
     "text": [
      "acc: 0.787488775815624\tacc_best: 0.8219096079018258; avg_ed: 0.27506734510625563\n"
     ]
    },
    {
     "name": "stderr",
     "output_type": "stream",
     "text": [
      "epoch: 92; iter: 4777; lr: 0.0004096000000000001; loss_mean: 0.18616581459112544; loss: 0.259477436542511: 100%|██████████| 1504/1504 [02:12<00:00, 11.39it/s]     \n"
     ]
    },
    {
     "name": "stdout",
     "output_type": "stream",
     "text": [
      "Test phase\n"
     ]
    },
    {
     "name": "stderr",
     "output_type": "stream",
     "text": [
      "100%|██████████| 67/67 [00:04<00:00, 15.45it/s]\n"
     ]
    },
    {
     "name": "stdout",
     "output_type": "stream",
     "text": [
      "acc: 0.7922777611493564\tacc_best: 0.8219096079018258; avg_ed: 0.2687818018557318\n"
     ]
    },
    {
     "name": "stderr",
     "output_type": "stream",
     "text": [
      "epoch: 93; iter: 6280; lr: 0.0002621440000000001; loss_mean: 0.14500528640750532; loss: 0.08786822110414505: 100%|██████████| 1504/1504 [02:11<00:00, 11.48it/s]   \n"
     ]
    },
    {
     "name": "stdout",
     "output_type": "stream",
     "text": [
      "Test phase\n"
     ]
    },
    {
     "name": "stderr",
     "output_type": "stream",
     "text": [
      "100%|██████████| 67/67 [00:04<00:00, 15.82it/s]\n"
     ]
    },
    {
     "name": "stdout",
     "output_type": "stream",
     "text": [
      "acc: 0.798263992816522\tacc_best: 0.8219096079018258; avg_ed: 0.2604010775217001\n"
     ]
    },
    {
     "name": "stderr",
     "output_type": "stream",
     "text": [
      "epoch: 94; iter: 7783; lr: 0.0002097152000000001; loss_mean: 0.11192950968859221; loss: 0.11625248193740845: 100%|██████████| 1504/1504 [02:16<00:00, 11.01it/s]   \n"
     ]
    },
    {
     "name": "stdout",
     "output_type": "stream",
     "text": [
      "Test phase\n"
     ]
    },
    {
     "name": "stderr",
     "output_type": "stream",
     "text": [
      "100%|██████████| 67/67 [00:04<00:00, 14.87it/s]\n"
     ]
    },
    {
     "name": "stdout",
     "output_type": "stream",
     "text": [
      "acc: 0.80903920981742\tacc_best: 0.8219096079018258; avg_ed: 0.2391499551032625\n"
     ]
    },
    {
     "name": "stderr",
     "output_type": "stream",
     "text": [
      "epoch: 95; iter: 9286; lr: 0.00013421772800000008; loss_mean: 0.08888240748873083; loss: 0.09962496161460876: 100%|██████████| 1504/1504 [02:11<00:00, 11.44it/s]    \n"
     ]
    },
    {
     "name": "stdout",
     "output_type": "stream",
     "text": [
      "Test phase\n"
     ]
    },
    {
     "name": "stderr",
     "output_type": "stream",
     "text": [
      "100%|██████████| 67/67 [00:04<00:00, 16.52it/s]\n"
     ]
    },
    {
     "name": "stdout",
     "output_type": "stream",
     "text": [
      "acc: 0.8114337024842861\tacc_best: 0.8219096079018258; avg_ed: 0.24304100568692008\n"
     ]
    },
    {
     "name": "stderr",
     "output_type": "stream",
     "text": [
      "epoch: 96; iter: 10789; lr: 0.00010737418240000006; loss_mean: 0.07170269240778022; loss: 0.03787369281053543: 100%|██████████| 1504/1504 [02:20<00:00, 10.69it/s]    \n"
     ]
    },
    {
     "name": "stdout",
     "output_type": "stream",
     "text": [
      "Test phase\n"
     ]
    },
    {
     "name": "stderr",
     "output_type": "stream",
     "text": [
      "100%|██████████| 67/67 [00:04<00:00, 13.83it/s]\n"
     ]
    },
    {
     "name": "stdout",
     "output_type": "stream",
     "text": [
      "acc: 0.8171206225680934\tacc_best: 0.8219096079018258; avg_ed: 0.23585752768632146\n"
     ]
    },
    {
     "name": "stderr",
     "output_type": "stream",
     "text": [
      "epoch: 97; iter: 12292; lr: 6.871947673600005e-05; loss_mean: 0.06323588029265177; loss: 0.08621831983327866: 100%|██████████| 1504/1504 [02:28<00:00, 10.15it/s]    \n"
     ]
    },
    {
     "name": "stdout",
     "output_type": "stream",
     "text": [
      "Test phase\n"
     ]
    },
    {
     "name": "stderr",
     "output_type": "stream",
     "text": [
      "100%|██████████| 67/67 [00:05<00:00, 11.97it/s]\n"
     ]
    },
    {
     "name": "stdout",
     "output_type": "stream",
     "text": [
      "acc: 0.8198144268183178\tacc_best: 0.8219096079018258; avg_ed: 0.23316372343609698\n"
     ]
    },
    {
     "name": "stderr",
     "output_type": "stream",
     "text": [
      "epoch: 98; iter: 13795; lr: 5.497558138880004e-05; loss_mean: 0.05506083731805432; loss: -0.03501560911536217: 100%|██████████| 1504/1504 [02:23<00:00, 10.46it/s]   \n"
     ]
    },
    {
     "name": "stdout",
     "output_type": "stream",
     "text": [
      "Test phase\n"
     ]
    },
    {
     "name": "stderr",
     "output_type": "stream",
     "text": [
      "100%|██████████| 67/67 [00:04<00:00, 14.73it/s]\n"
     ]
    },
    {
     "name": "stdout",
     "output_type": "stream",
     "text": [
      "acc: 0.812331637234361\tacc_best: 0.8219096079018258; avg_ed: 0.23974857826997906\n"
     ]
    },
    {
     "name": "stderr",
     "output_type": "stream",
     "text": [
      "epoch: 99; iter: 298; lr: 0.001; loss_mean: 0.1270876573780225; loss: 0.2553790211677551: 100%|██████████| 1504/1504 [02:14<00:00, 11.17it/s]                         \n"
     ]
    }
   ],
   "source": [
    "val_acc, train_loss = main()"
   ]
  },
  {
   "cell_type": "code",
   "execution_count": 59,
   "metadata": {},
   "outputs": [
    {
     "data": {
      "image/png": "[encoded data removed]",
      "text/plain": [
       "<Figure size 640x480 with 1 Axes>"
      ]
     },
     "metadata": {},
     "output_type": "display_data"
    }
   ],
   "source": [
    "import matplotlib.pyplot as plt\n",
    "import numpy as np\n",
    "\n",
    "\n",
    "# 创建折线图\n",
    "plt.plot(val_acc)\n",
    "\n",
    "# 添加标题和标签\n",
    "plt.title(\"Validation Accuracy\")\n",
    "plt.xlabel(\"Epoch\")\n",
    "plt.ylabel(\"Accuracy\")\n",
    "\n",
    "# 显示图形\n",
    "plt.show()"
   ]
  },
  {
   "cell_type": "code",
   "execution_count": 57,
   "metadata": {},
   "outputs": [
    {
     "data": {
      "image/png": "[encoded data removed]",
      "text/plain": [
       "<Figure size 640x480 with 1 Axes>"
      ]
     },
     "metadata": {},
     "output_type": "display_data"
    }
   ],
   "source": [
    "import matplotlib.pyplot as plt\n",
    "import numpy as np\n",
    "\n",
    "\n",
    "# 创建折线图\n",
    "plt.plot(train_loss)\n",
    "\n",
    "# 添加标题和标签\n",
    "plt.title(\"Training Set Average Loss\")\n",
    "plt.xlabel(\"Epoch\")\n",
    "plt.ylabel(\"Average Loss\")\n",
    "\n",
    "# 显示图形\n",
    "plt.show()"
   ]
  },
  {
   "cell_type": "code",
   "execution_count": 111,
   "metadata": {},
   "outputs": [
    {
     "name": "stdout",
     "output_type": "stream",
     "text": [
      "['data/test/1.png', 'data/test/2.png', 'data/test/3.png', 'data/test/4.png', 'data/test/5.png']\n",
      "13068\n"
     ]
    },
    {
     "name": "stderr",
     "output_type": "stream",
     "text": [
      "100%|██████████| 262/262 [00:16<00:00, 15.43it/s]\n"
     ]
    }
   ],
   "source": [
    "device = torch.device(\"cuda\" if torch.cuda.is_available() else \"cpu\")\n",
    "\n",
    "test_labels_path = 'data/test_labels'\n",
    "test_base_path = 'data/test/'\n",
    "\n",
    "test_path = []\n",
    "\n",
    "for i in range(len(os.listdir(test_labels_path))):\n",
    "    test_path.append(test_base_path + str(i+1) + '.png')\n",
    "  \n",
    "print(test_path[:5])\n",
    "\n",
    "test_label = [[1]] * len(test_path)\n",
    "\n",
    "def predict(net, data, abc, device, visualize, batch_size=50):\n",
    "  data_loader = DataLoader(data, batch_size=batch_size, num_workers=4, shuffle=False, collate_fn=text_collate)\n",
    "\n",
    "  count = 0\n",
    "  tp = 0\n",
    "  avg_ed = 0\n",
    "  out = []\n",
    "  iterator = tqdm(data_loader)\n",
    "  for sample in iterator:\n",
    "    imgs = Variable(sample[\"img\"])\n",
    "    imgs = imgs.to(device)\n",
    "    out += net(imgs, decode=True)\n",
    "    # print(out)\n",
    "    # break\n",
    "  return out\n",
    "\n",
    "model = load_model('0123456789', device, seq_proj=[7, 30], backend='resnet18', snapshot='crnn_resnet18_0123456789_best')\n",
    "\n",
    "transform = Compose([\n",
    "   # Rotation(),\n",
    "   # Translation(),\n",
    "   # Scale(),\n",
    "  Resize(size=(200, 100))\n",
    "])\n",
    "\n",
    "test_data = TextDataset(test_path, test_label, transform=transform)\n",
    "\n",
    "print(len(test_data))\n",
    "\n",
    "model.training = False\n",
    "test_predict = predict(model, test_data, '0123456789', device, False, batch_size=50)"
   ]
  },
  {
   "cell_type": "code",
   "execution_count": 117,
   "metadata": {},
   "outputs": [
    {
     "data": {
      "text/plain": [
       "['5', '210', '96', '0', '9', '11', '189', '65', '144', '163']"
      ]
     },
     "execution_count": 117,
     "metadata": {},
     "output_type": "execute_result"
    }
   ],
   "source": [
    "test_predict[:10]"
   ]
  },
  {
   "cell_type": "code",
   "execution_count": 127,
   "metadata": {},
   "outputs": [
    {
     "name": "stdout",
     "output_type": "stream",
     "text": [
      "13068\n",
      "['5', '210', '6', '1', '9', '1', '183', '65', '144', '16']\n"
     ]
    }
   ],
   "source": [
    "import json\n",
    "\n",
    "with open(\"test.json\", \"r\") as f:\n",
    "    test_info = json.load(f)\n",
    "\n",
    "labels = []\n",
    "for image_name, image_info in test_info.items():\n",
    "    label = \"\"\n",
    "    label_info = list(zip(test_info[image_name][\"left\"], test_info[image_name][\"top\"], test_info[image_name][\"width\"], test_info[image_name][\"height\"], test_info[image_name][\"label\"]) )\n",
    "    sorted_label_info = sorted(label_info, key=lambda x: (x[0], x[1],x[2],x[3]))\n",
    "    for i in sorted_label_info:\n",
    "        label += str(i[4])\n",
    "    labels.append(label)\n",
    "\n",
    "print(len(labels))\n",
    "print(labels[0:10])"
   ]
  },
  {
   "cell_type": "code",
   "execution_count": 129,
   "metadata": {},
   "outputs": [
    {
     "name": "stdout",
     "output_type": "stream",
     "text": [
      "Acurracy: 67.95%\n"
     ]
    }
   ],
   "source": [
    "correct = 0\n",
    "\n",
    "for i in range(len(labels)):\n",
    "    if labels[i] == test_predict[i]: \n",
    "        correct += 1\n",
    "\n",
    "print(f\"Acurracy: {correct * 100/len(labels):.2f}%\")"
   ]
  },
  {
   "cell_type": "code",
   "execution_count": 130,
   "metadata": {},
   "outputs": [
    {
     "name": "stdout",
     "output_type": "stream",
     "text": [
      "Acurracy: 77.93%\n"
     ]
    }
   ],
   "source": [
    "correct = 0\n",
    "l = 0\n",
    "\n",
    "for i in range(len(labels)):\n",
    "  for j in range(len(labels[i])):\n",
    "    if j < len(test_predict[i]) and labels[i][j] == test_predict[i][j]:\n",
    "      correct += 1\n",
    "    l += 1\n",
    "\n",
    "print(f\"Acurracy: {correct * 100/l:.2f}%\")"
   ]
  }
 ],
 "metadata": {
  "kernelspec": {
   "display_name": "base",
   "language": "python",
   "name": "python3"
  },
  "language_info": {
   "codemirror_mode": {
    "name": "ipython",
    "version": 3
   },
   "file_extension": ".py",
   "mimetype": "text/x-python",
   "name": "python",
   "nbconvert_exporter": "python",
   "pygments_lexer": "ipython3",
   "version": "3.9.13"
  }
 },
 "nbformat": 4,
 "nbformat_minor": 2
}
