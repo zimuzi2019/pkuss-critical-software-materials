{
 "cells": [
  {
   "cell_type": "code",
   "execution_count": 115,
   "metadata": {},
   "outputs": [],
   "source": [
    "import json\n",
    "\n",
    "# 从 PandaLM 的训练数据 train.json 中抽样的 35000 条\n",
    "with open(\"./sampled_train.json\", \"r\") as f:\n",
    "  pandaLM_sample_data = json.load(f)\n",
    "\n",
    "autoJ_pairwise = []\n",
    "autoJ_single = []\n",
    "with open(\"./training/pairwise_traindata.jsonl\", \"r\") as f:\n",
    "  for line in f:\n",
    "    autoJ_pairwise.append(json.loads(line))\n",
    "\n",
    "with open(\"./training/single_traindata.jsonl\", \"r\") as f:\n",
    "  for line in f:\n",
    "    autoJ_single.append(json.loads(line))\n",
    "\n",
    "data = []"
   ]
  },
  {
   "cell_type": "code",
   "execution_count": 116,
   "metadata": {},
   "outputs": [],
   "source": [
    "for i in range(len(pandaLM_sample_data)):\n",
    "  input_sequence = pandaLM_sample_data[i]['input_sequence']\n",
    "  output_sequence = pandaLM_sample_data[i]['output_sequence']\n",
    "\n",
    "  data.append({\n",
    "    \"instruction\": input_sequence,\n",
    "    \"output\": output_sequence\n",
    "  })"
   ]
  },
  {
   "cell_type": "code",
   "execution_count": 117,
   "metadata": {},
   "outputs": [
    {
     "data": {
      "text/plain": [
       "{'instruction': 'Below are two responses for a given task. The task is defined by the Instruction. Evaluate the responses and generate a reference answer for the task.\\n\\n### Instruction:\\nGenerate a new expression to describe a person who is always late.\\n\\n### Response 1:\\nNever on time.\\n\\n### Response 2:\\nHe is always late.\\n\\n### Evaluation:\\n',\n",
       " 'output': '1\\n\\n### Reason: Response 1 is a more creative and concise way to describe a person who is always late.\\n\\n### Reference: Chronic latecomer.\\n'}"
      ]
     },
     "execution_count": 117,
     "metadata": {},
     "output_type": "execute_result"
    }
   ],
   "source": [
    "data[0]"
   ]
  },
  {
   "cell_type": "code",
   "execution_count": 118,
   "metadata": {},
   "outputs": [
    {
     "data": {
      "text/plain": [
       "{'usrmsg': 'You are assessing two submitted responses on a given user\\'s query and judging which response is better or they are tied. Here is the data:\\n\\n[BEGIN DATA]\\n***\\n[Query]: my powershell script keeps stopping until i press enter, how can I make sure it runs all commands without waiting? I need to run this automatically without user input\\n***\\n[Response 1]: To prevent your PowerShell script from stopping until you press enter, you can use the `-noexit` parameter to suppress the exit prompt.\\n\\nHere\\'s an example of how you can modify your script to use the `-noexit` parameter:\\n\\n```PowerShell\\n$noexit = $true\\n\\nwhile ($noexit) {\\n    # Your script code here\\n}\\n```\\n\\nWhen you run this modified script, it will continue to execute without stopping until you press enter, as opposed to having the script exit immediately after the first command.\\n***\\n[Response 2]: You can try adding the \"-NoInteractive\" flag to your PowerShell command. This flag will prevent any prompts or interactive input during the execution of the script. \\n\\nFor example, if your PowerShell command is \"powershell.exe -File myscript.ps1\", you can modify it to \"powershell.exe -NoInteractive -File myscript.ps1\" to prevent any prompts during the execution of the script. \\n\\nThis should allow your script to run without waiting for user input.\\n***\\n[END DATA]\\n\\nHere are the instructions to assess and compare the two responses:\\n\\n1. Pinpoint the key factors to distinguish these two responses.\\n2. Conclude your comparison by providing a final decision on which response is better, or they are tied. Begin your final decision statement with \"So, the final decision is Response 1 / Response 2 / Tie\". Ensure that your decision aligns coherently with the comprehensive evaluation and comparison you\\'ve provided.',\n",
       " 'target_output': '1. The key factors to distinguish these two responses:\\n\\n\\t- pointing out: Both responses point out the changes made to the script and explain how these changes will solve the user\\'s problem. However, Response 2 provides a more precise explanation of how the \"-NoInteractive\" flag will prevent any prompts during the execution of the script.\\n\\n\\t- accuracy of the solution: Response 2\\'s solution is more accurate as the \"-NoInteractive\" flag is the correct way to prevent any prompts or interactive input during the execution of a PowerShell script.\\n\\n\\t- instruction following: Both responses follow the user\\'s instructions to provide a solution that allows the script to run without waiting for user input. However, Response 2\\'s solution is more in line with the user\\'s need to run the script automatically.\\n\\n\\t- coverage: Both responses provide a solution to the user\\'s problem, but Response 2\\'s solution is more accurate and directly addresses the user\\'s need to run the script automatically without user input.\\n\\n\\t- relevance to the user\\'s problem: Response 2\\'s solution is more relevant to the user\\'s problem as it directly addresses the need to run the script automatically without user input.\\n\\n\\t- code correctness: Both responses provide correct code, but Response 2\\'s solution is more appropriate for the user\\'s problem.\\n\\n2. The final decision:\\n\\n\\tSo, the final decision is Response 2. Although both responses provide valid solutions, Response 2\\'s solution is more accurate and directly addresses the user\\'s need to run the script automatically without user input.',\n",
       " 'gt_label': 1,\n",
       " 'pred_label': 1,\n",
       " 'scenario': 'code_correction_rewriting',\n",
       " 'source_dataset': 'chatbot_arena'}"
      ]
     },
     "execution_count": 118,
     "metadata": {},
     "output_type": "execute_result"
    }
   ],
   "source": [
    "autoJ_pairwise[0]"
   ]
  },
  {
   "cell_type": "code",
   "execution_count": 119,
   "metadata": {},
   "outputs": [
    {
     "data": {
      "text/plain": [
       "{'usrmsg': 'Write critiques for a submitted response on a given user\\'s query, and grade the response:\\n  \\n[BEGIN DATA]\\n***\\n[Query]: Evaluate the efficiency of the popular programming languages you have got to know.\\n***\\n[Response]: As an AI language model, I do not have personal opinions, but I can provide information on popular programming languages and their efficiency.\\n\\nHere is a list of commonly used programming languages, along with their Ease of Use (EOI) scores, which is a measure of how easy a programming language is to learn, perform, and use:\\n\\n* Python: 90\\n* JavaScript: 83\\n* C++: 88\\n* PHP: 78\\n* Perl: 78\\n* PHP and MySQL: 77\\n* Ruby: 67\\n* Swift: 67\\n* Java: 67\\n* Rust: 67\\n* C#: 67\\n* Go: 67\\n* Swift: 66\\n* Python: 66\\n* PHP: 54\\n* Perl: 54\\n* Python with Pandas: 54\\n* JavaScript with React: 54\\n* C++ with OpenMP: 54\\n* Rust with Ruststd: 54\\n* Go with Golang: 54\\n* Swift with SwiftUI: 54\\n* C# with.NET Core: 54\\n* Rust with go2e: 54\\n* Go with rust: 54\\n* C#: 5.4\\n* Java with JavaDoc: 4.2\\n* JavaScript with React: 4.1\\n\\nHere are some ways in which programming languages can be considered efficient:\\n\\n* Python: This language is well-suited to web development and machine learning, making it an excellent choice for projects that require data analysis, machine learning, and web scraping.\\n* JavaScript: This language is popular for web development, making it a good choice for projects that require user interfaces, animations, and other interactive features.\\n* C++: This language is useful for building high-performance applications, debugging tools, and systems programming.\\n* PHP: This language is commonly used for web development and server-side programming, and is also well-suited to mobile development.\\n* Perl: This language is commonly used for scripting and data processing, and is also well-suited to web development and data analysis.\\n* Python with Pandas: This language is useful for data analysis and machine learning, and is well-suited to web development, data visualization, and web scraping.\\n* JavaScript with React: This language is useful for building interactive user interfaces, creating reusable components, and building dynamic web applications.\\n* C++ with OpenMP: This language is useful for building parallelized applications, and is well-suited to system programming and operating\\n***\\n[END DATA]\\n\\nWrite critiques for this response. After that, you should give a final rating for the response on a scale of 1 to 10 by strictly following this format: \"[[rating]]\", for example: \"Rating: [[5]]\".',\n",
       " 'target_output': 'The response to the user\\'s query about the efficiency of popular programming languages was not adequately addressed. Instead of providing an evaluation of efficiency, the response provided Ease of Use (EOI) scores, which do not directly correlate with efficiency. Efficiency in programming languages typically refers to runtime efficiency, memory efficiency, or developer productivity, none of which were discussed in the response.\\n\\nThe response also included some programming languages multiple times with different EOI scores, such as Python, PHP, and Swift. This repetition is confusing and undermines the reliability of the information provided. Furthermore, the response included combinations of languages and libraries or frameworks, such as \"Python with Pandas\" or \"JavaScript with React\", as separate programming languages, which is incorrect and misleading.\\n\\nThe response lacked specific metrics or comparisons to evaluate the efficiency of the programming languages. It only provided general statements about what each language is commonly used for, without any sources or references to verify the accuracy of the information. This lack of citation makes the information less credible to the user.\\n\\nAdditionally, the response did not address all the languages listed in the EOI scores in the efficiency evaluation. Languages like Ruby, Rust, Go, and C# were omitted from the efficiency discussion. The response also ended abruptly, suggesting an incomplete sentence, which further detracts from its overall quality.\\n\\nLastly, the response did not seek any further information or clarification from the user, such as what specific aspects of efficiency they are interested in, or what types of projects or applications they are planning to use the programming languages for. This could have helped to provide a more tailored and relevant response.\\n\\nRating: [[3]]',\n",
       " 'pred_score': 3.0,\n",
       " 'scenario': 'default',\n",
       " 'source_dataset': 'chatbot_arena'}"
      ]
     },
     "execution_count": 119,
     "metadata": {},
     "output_type": "execute_result"
    }
   ],
   "source": [
    "autoJ_single[0]"
   ]
  },
  {
   "cell_type": "code",
   "execution_count": 120,
   "metadata": {},
   "outputs": [
    {
     "name": "stdout",
     "output_type": "stream",
     "text": [
      "Write critiques for a submitted response on a given user's query, and grade the response:\n",
      "  \n",
      "[BEGIN DATA]\n",
      "***\n",
      "[Query]: Evaluate the efficiency of the popular programming languages you have got to know.\n",
      "***\n",
      "[Response]: As an AI language model, I do not have personal opinions, but I can provide information on popular programming languages and their efficiency.\n",
      "\n",
      "Here is a list of commonly used programming languages, along with their Ease of Use (EOI) scores, which is a measure of how easy a programming language is to learn, perform, and use:\n",
      "\n",
      "* Python: 90\n",
      "* JavaScript: 83\n",
      "* C++: 88\n",
      "* PHP: 78\n",
      "* Perl: 78\n",
      "* PHP and MySQL: 77\n",
      "* Ruby: 67\n",
      "* Swift: 67\n",
      "* Java: 67\n",
      "* Rust: 67\n",
      "* C#: 67\n",
      "* Go: 67\n",
      "* Swift: 66\n",
      "* Python: 66\n",
      "* PHP: 54\n",
      "* Perl: 54\n",
      "* Python with Pandas: 54\n",
      "* JavaScript with React: 54\n",
      "* C++ with OpenMP: 54\n",
      "* Rust with Ruststd: 54\n",
      "* Go with Golang: 54\n",
      "* Swift with SwiftUI: 54\n",
      "* C# with.NET Core: 54\n",
      "* Rust with go2e: 54\n",
      "* Go with rust: 54\n",
      "* C#: 5.4\n",
      "* Java with JavaDoc: 4.2\n",
      "* JavaScript with React: 4.1\n",
      "\n",
      "Here are some ways in which programming languages can be considered efficient:\n",
      "\n",
      "* Python: This language is well-suited to web development and machine learning, making it an excellent choice for projects that require data analysis, machine learning, and web scraping.\n",
      "* JavaScript: This language is popular for web development, making it a good choice for projects that require user interfaces, animations, and other interactive features.\n",
      "* C++: This language is useful for building high-performance applications, debugging tools, and systems programming.\n",
      "* PHP: This language is commonly used for web development and server-side programming, and is also well-suited to mobile development.\n",
      "* Perl: This language is commonly used for scripting and data processing, and is also well-suited to web development and data analysis.\n",
      "* Python with Pandas: This language is useful for data analysis and machine learning, and is well-suited to web development, data visualization, and web scraping.\n",
      "* JavaScript with React: This language is useful for building interactive user interfaces, creating reusable components, and building dynamic web applications.\n",
      "* C++ with OpenMP: This language is useful for building parallelized applications, and is well-suited to system programming and operating\n",
      "***\n",
      "[END DATA]\n",
      "\n",
      "Write critiques for this response. After that, you should give a final rating for the response on a scale of 1 to 10 by strictly following this format: \"[[rating]]\", for example: \"Rating: [[5]]\".\n"
     ]
    }
   ],
   "source": [
    "print(autoJ_single[0]['usrmsg'])"
   ]
  },
  {
   "cell_type": "code",
   "execution_count": 121,
   "metadata": {},
   "outputs": [
    {
     "name": "stdout",
     "output_type": "stream",
     "text": [
      "You are assessing two submitted responses on a given user's query and judging which response is better or they are tied. Here is the data:\n",
      "\n",
      "[BEGIN DATA]\n",
      "***\n",
      "[Query]: my powershell script keeps stopping until i press enter, how can I make sure it runs all commands without waiting? I need to run this automatically without user input\n",
      "***\n",
      "[Response 1]: To prevent your PowerShell script from stopping until you press enter, you can use the `-noexit` parameter to suppress the exit prompt.\n",
      "\n",
      "Here's an example of how you can modify your script to use the `-noexit` parameter:\n",
      "\n",
      "```PowerShell\n",
      "$noexit = $true\n",
      "\n",
      "while ($noexit) {\n",
      "    # Your script code here\n",
      "}\n",
      "```\n",
      "\n",
      "When you run this modified script, it will continue to execute without stopping until you press enter, as opposed to having the script exit immediately after the first command.\n",
      "***\n",
      "[Response 2]: You can try adding the \"-NoInteractive\" flag to your PowerShell command. This flag will prevent any prompts or interactive input during the execution of the script. \n",
      "\n",
      "For example, if your PowerShell command is \"powershell.exe -File myscript.ps1\", you can modify it to \"powershell.exe -NoInteractive -File myscript.ps1\" to prevent any prompts during the execution of the script. \n",
      "\n",
      "This should allow your script to run without waiting for user input.\n",
      "***\n",
      "[END DATA]\n",
      "\n",
      "Here are the instructions to assess and compare the two responses:\n",
      "\n",
      "1. Pinpoint the key factors to distinguish these two responses.\n",
      "2. Conclude your comparison by providing a final decision on which response is better, or they are tied. Begin your final decision statement with \"So, the final decision is Response 1 / Response 2 / Tie\". Ensure that your decision aligns coherently with the comprehensive evaluation and comparison you've provided.\n"
     ]
    }
   ],
   "source": [
    "print(autoJ_pairwise[0]['usrmsg'])"
   ]
  },
  {
   "cell_type": "code",
   "execution_count": 122,
   "metadata": {},
   "outputs": [],
   "source": [
    "single = \"\"\"Write critiques for a submitted response on a given user's query, and grade the response:\n",
    "\n",
    "[BEGIN DATA]\n",
    "***\n",
    "[Query]: {prompt}\n",
    "***\n",
    "[Response]: {response}\n",
    "***\n",
    "[END DATA]\n",
    "\n",
    "Write critiques for this response. After that, you should give a final rating for the response on a scale of 1 to 10 by strictly following this format: \"[[rating]]\", for example: \"Rating: [[5]]\".\"\"\"\n",
    "\n",
    "pairwise_tie = \"\"\"You are assessing two submitted responses on a given user's query and judging which response is better or they are tied. Here is the data:\n",
    "\n",
    "[BEGIN DATA]\n",
    "***\n",
    "[Query]: {prompt}\n",
    "***\n",
    "[Response 1]: {response}\n",
    "***\n",
    "[Response 2]: {response_another}\n",
    "***\n",
    "[END DATA]\n",
    "\n",
    "Here are the instructions to assess and compare the two responses:\n",
    "\n",
    "1. Pinpoint the key factors to distinguish these two responses.\n",
    "2. Conclude your comparison by providing a final decision on which response is better, or they are tied. Begin your final decision statement with \"So, the final decision is Response 1 / Response 2 / Tie\". Ensure that your decision aligns coherently with the comprehensive evaluation and comparison you've provided.\"\"\""
   ]
  },
  {
   "cell_type": "code",
   "execution_count": 123,
   "metadata": {},
   "outputs": [],
   "source": [
    "for i in range(len(autoJ_pairwise)):\n",
    "  usrmsg = autoJ_pairwise[i]['usrmsg']\n",
    "  target_output = autoJ_pairwise[i]['target_output']\n",
    "\n",
    "  data.append({\n",
    "    \"instruction\": usrmsg,\n",
    "    \"output\": target_output\n",
    "  })\n",
    "\n",
    "\n",
    "for i in range(len(autoJ_single)):\n",
    "  usrmsg = autoJ_single[i]['usrmsg']\n",
    "  target_output = autoJ_single[i]['target_output']\n",
    "\n",
    "  data.append({\n",
    "    \"instruction\": usrmsg,\n",
    "    \"output\": target_output\n",
    "  })"
   ]
  },
  {
   "cell_type": "code",
   "execution_count": 124,
   "metadata": {},
   "outputs": [
    {
     "data": {
      "text/plain": [
       "39396"
      ]
     },
     "execution_count": 124,
     "metadata": {},
     "output_type": "execute_result"
    }
   ],
   "source": [
    "len(data)"
   ]
  },
  {
   "cell_type": "code",
   "execution_count": 125,
   "metadata": {},
   "outputs": [],
   "source": [
    "import random\n",
    "\n",
    "random.seed(42)"
   ]
  },
  {
   "cell_type": "code",
   "execution_count": 126,
   "metadata": {},
   "outputs": [
    {
     "data": {
      "text/plain": [
       "{'instruction': 'Below are two responses for a given task. The task is defined by the Instruction with an Input that provides further context. Evaluate the responses and generate a reference answer for the task.\\n\\n### Instruction:\\nReturn the vowel count for the following word: \"Apple\".\\n\\n### Input:\\nApple\\n\\n### Response 1:\\n1\\n\\n### Response 2:\\n2\\n\\n### Evaluation:\\n',\n",
       " 'output': '2\\n\\n### Reason: Response 2 is correct because the word \"Apple\" has two vowels, \\'a\\' and \\'e\\'.\\n\\n### Reference: 1\\n'}"
      ]
     },
     "execution_count": 126,
     "metadata": {},
     "output_type": "execute_result"
    }
   ],
   "source": [
    "random.shuffle(data)\n",
    "data[0]"
   ]
  },
  {
   "cell_type": "code",
   "execution_count": 132,
   "metadata": {},
   "outputs": [],
   "source": [
    "with open(\"final_train_data.json\", \"w\") as f:\n",
    "  json.dump(data, f, indent=4)"
   ]
  },
  {
   "cell_type": "code",
   "execution_count": 136,
   "metadata": {},
   "outputs": [
    {
     "name": "stdout",
     "output_type": "stream",
     "text": [
      "11991\n",
      "1397.1250126916439\n"
     ]
    }
   ],
   "source": [
    "max = 0\n",
    "sum = 0\n",
    "\n",
    "for i in range(len(data)):\n",
    "  t = len(data[i]['instruction']) + len(data[i]['output'])\n",
    "  sum += t\n",
    "  if max <= t:\n",
    "    max = t\n",
    "\n",
    "mean = sum / len(data)\n",
    "\n",
    "print(max)\n",
    "print(mean)"
   ]
  }
 ],
 "metadata": {
  "kernelspec": {
   "display_name": "nlp",
   "language": "python",
   "name": "python3"
  },
  "language_info": {
   "codemirror_mode": {
    "name": "ipython",
    "version": 3
   },
   "file_extension": ".py",
   "mimetype": "text/x-python",
   "name": "python",
   "nbconvert_exporter": "python",
   "pygments_lexer": "ipython3",
   "version": "3.10.14"
  }
 },
 "nbformat": 4,
 "nbformat_minor": 2
}
